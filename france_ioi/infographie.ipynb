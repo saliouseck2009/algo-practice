{
 "cells": [
  {
   "cell_type": "markdown",
   "metadata": {},
   "source": [
    "En infographie, lorsque l'on désire créer l'image associée à une scène 3D, il est nécessaire de dessiner les faces qui la composent dans le bon ordre. En effet, certaines faces en recouvrent d'autres et doivent donc être dessinées après ces dernières.<br>\n",
    "\n",
    "Vous travaillez sur un moteur de rendu simplifié pour lequel les faces à dessiner sont des rectangles dont les côtés sont parallèles aux bords de l'image. Vous connaissez l'ordre dans lequel ces faces rectangulaires doivent être dessinées ainsi que la couleur de chacun et souhaitez écrire un programme qui crée l'image tant attendue.<br>\n",
    "\n",
    "L'image a nbLignes lignes et nbColonnes colonnes. Les lignes sont indexées de 0 à nbLignes − 1 et les colonnes de 0 à nbColonnes − 1. La couleur de chaque rectangle est définie par un caractère. Par défaut, chaque pixel est de la couleur ..<br>\n",
    "\n",
    "### Limites de temps et de mémoire (Python) <br>\n",
    "Temps : 0,5 s sur une machine à 1 GHz.<br>\n",
    "Mémoire : 16 000 ko.<br>\n",
    "### Contraintes\n",
    "1 <= nbLignes, nbColonnes <= 100, le nombre de lignes et de colonnes de l'image.<br>\n",
    "0 <= nbRectangles <= 100, le nombre de rectangles à dessiner.<br>\n",
    "### Entrée<br>\n",
    "La première ligne de l'entrée contient deux entiers : nbLignes et nbColonnes.<br>\n",
    "\n",
    "La seconde ligne contient un unique entier : nbRectangles.<br>\n",
    "\n",
    "Les nbRectangles lignes suivantes contiennent chacune quatre entiers iLig1, iCol1, iLig2 et iCol2 décrivant les coordonnées des bords respectivement en haut, à gauche, en bas et à droite du rectangle considéré, ainsi qu'un caractère couleur indiquant la couleur du rectangle.<br>\n",
    "\n",
    "Les rectangles doivent être dessinés dans l'ordre dans lequel ils sont donnés en entrée.<br>\n",
    "\n",
    "### Sortie<br>\n",
    "Votre programme doit afficher nbLignes lignes de nbColonnes caractères chacune décrivant l'image obtenue.<br>\n",
    "\n",
    "### Exemple\n",
    "entrée :\n",
    "```\n",
    "9 19\n",
    "4\n",
    "1 3 7 5 o\n",
    "5 2 6 16 -\n",
    "1 12 7 14 u\n",
    "2 1 2 16 s\n",
    "```\n",
    "sortie :\n",
    "```\n",
    "...................\n",
    "...ooo......uuu....\n",
    ".ssssssssssssssss..\n",
    "...ooo......uuu....\n",
    "...ooo......uuu....\n",
    "..----------uuu--..\n",
    "..----------uuu--..\n",
    "...ooo......uuu....\n",
    "...................\n",
    "```"
   ]
  },
  {
   "cell_type": "code",
   "execution_count": 11,
   "metadata": {},
   "outputs": [
    {
     "name": "stdout",
     "output_type": "stream",
     "text": [
      "...................\n",
      "...ooo......uuu....\n",
      ".ssssssssssssssss..\n",
      "...ooo......uuu....\n",
      "...ooo......uuu....\n",
      "..----------uuu--..\n",
      "..----------uuu--..\n",
      "...ooo......uuu....\n",
      "...................\n"
     ]
    }
   ],
   "source": [
    "# nbLignes, nbColonnes = map(int, input().split())\n",
    "nbLignes, nbColonnes = 9,19\n",
    "# nbRectangles = int(input())\n",
    "nbRectangles = 4\n",
    "# matrix= list()\n",
    "matrix= list()\n",
    "\n",
    "# for rect in range(nbRectangles):\n",
    "#     data =  input()\n",
    "#     matrix.extend([list(map(int, data.split()[:4]))+list(data[-1]) ])\n",
    "\n",
    "matrix = [[1, 3, 7, 5, 'o'],\n",
    "[5, 2, 6, 16, '-'],\n",
    "[1 ,12, 7, 14, 'u'],\n",
    "[2, 1, 2, 16, 's']]    \n",
    "for row in range(nbLignes):\n",
    "    for col in range(nbColonnes):\n",
    "        has_color=False\n",
    "        for rect in range(nbRectangles-1,-1,-1):\n",
    "            if matrix[rect][0]<= row <= matrix[rect][2]:\n",
    "                if matrix[rect][1]<= col <=matrix[rect][3]:\n",
    "                    print(matrix[rect][4],end=\"\")\n",
    "                    has_color=True\n",
    "                    break\n",
    "        if has_color==False:\n",
    "            print(\".\",end='')\n",
    "    print()\n"
   ]
  },
  {
   "cell_type": "code",
   "execution_count": 12,
   "metadata": {},
   "outputs": [
    {
     "name": "stdout",
     "output_type": "stream",
     "text": [
      "...................\n",
      "...ooo......uuu....\n",
      ".ssssssssssssssss..\n",
      "...ooo......uuu....\n",
      "...ooo......uuu....\n",
      "..----------uuu--..\n",
      "..----------uuu--..\n",
      "...ooo......uuu....\n",
      "...................\n"
     ]
    }
   ],
   "source": [
    "nbLignes, nbColonnes = map(int, input().split())\n",
    "nbRectangles = int(input())\n",
    "matrix= list()\n",
    "\n",
    "for rect in range(nbRectangles):\n",
    "    data =  input()\n",
    "    matrix.extend([list(map(int, data.split()[:4]))+list(data[-1]) ])\n",
    "  \n",
    "for row in range(nbLignes):\n",
    "    for col in range(nbColonnes):\n",
    "        has_color=False\n",
    "        for rect in range(nbRectangles-1,-1,-1):\n",
    "            if matrix[rect][0]<= row <= matrix[rect][2]:\n",
    "                if matrix[rect][1]<= col <=matrix[rect][3]:\n",
    "                    print(matrix[rect][4],end=\"\")\n",
    "                    has_color=True\n",
    "                    break\n",
    "        if has_color==False:\n",
    "            print(\".\",end='')\n",
    "    print()"
   ]
  }
 ],
 "metadata": {
  "kernelspec": {
   "display_name": "Python 3.10.5 64-bit",
   "language": "python",
   "name": "python3"
  },
  "language_info": {
   "codemirror_mode": {
    "name": "ipython",
    "version": 3
   },
   "file_extension": ".py",
   "mimetype": "text/x-python",
   "name": "python",
   "nbconvert_exporter": "python",
   "pygments_lexer": "ipython3",
   "version": "3.10.5"
  },
  "orig_nbformat": 4,
  "vscode": {
   "interpreter": {
    "hash": "369f2c481f4da34e4445cda3fffd2e751bd1c4d706f27375911949ba6bb62e1c"
   }
  }
 },
 "nbformat": 4,
 "nbformat_minor": 2
}
