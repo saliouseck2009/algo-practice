{
 "cells": [
  {
   "cell_type": "code",
   "execution_count": 27,
   "metadata": {},
   "outputs": [
    {
     "name": "stdout",
     "output_type": "stream",
     "text": [
      "min 2 100 brochette100\n",
      "Veillez entre votre budget\n",
      "Avec un budget de 1000 FCFA\n",
      "Vous pouvez avoir : \n",
      "{'brochette300': 3, 'brochette100': 1}\n"
     ]
    }
   ],
   "source": [
    "class Brochette:\n",
    "    def __init__(self,note: int,price:int , name:str) -> None:\n",
    "        self.note = note \n",
    "        self.price = price\n",
    "        self.name = name \n",
    "    def __str__(self) -> str:\n",
    "        return str(self.note) + \" \" +str(self.price) +\" \"+self.name\n",
    "    def __repr__(self) -> str:\n",
    "        return str(self.note) + \" \" +str(self.price) +\" \"+self.name\n",
    "\n",
    "brochettes = [Brochette(3,200,\"brochette200\"),Brochette(2,100,\"brochette100\"),Brochette(3,400,\"brochette400\"),Brochette(4,500,\"brochette500\"),Brochette(4,300,\"brochette300\"),]\n",
    "taille_brochette_tab = len(brochettes)\n",
    "\n",
    "#Recherche de la brochette avec le plus petit prix\n",
    "min_brochette_price=brochettes[0]\n",
    "for i in range(taille_brochette_tab-1,0,-1):\n",
    "    if brochettes[i].price<min_brochette_price.price:\n",
    "        min_brochette_price = brochettes[i]\n",
    "print(f\"min {min_brochette_price}\")\n",
    "\n",
    "# Ordonner les éléments du tableau en fonction des notes et price\n",
    "for i in range(taille_brochette_tab):\n",
    "    max=i\n",
    "    for j in range(i+1, taille_brochette_tab):\n",
    "        if brochettes[j].note>= brochettes[max].note:\n",
    "            if brochettes[j].note == brochettes[max].note:\n",
    "                if brochettes[j].price< brochettes[max].price:\n",
    "                    brochettes[j],brochettes[max]=brochettes[max],brochettes[j] #Echange des deux valeurs\n",
    "            else:\n",
    "                brochettes[j],brochettes[max]=brochettes[max],brochettes[j]\n",
    "print(\"Veillez entre votre budget\")\n",
    "somme = int(input())\n",
    "print(f\"Avec un budget de {somme} FCFA\")\n",
    "counter = 0\n",
    "commande_resultat = {}\n",
    "\n",
    "while(somme >=min.price and counter<taille_brochette_tab):\n",
    "    if somme>= brochettes[counter].price:\n",
    "        commande_resultat[brochettes[counter].name]=somme // brochettes[counter].price\n",
    "        somme = somme%brochettes[counter].price\n",
    "    counter+=1\n",
    "print(\"Vous pouvez avoir : \")\n",
    "print(commande_resultat)\n",
    "        \n",
    "    \n",
    "\n",
    "\n"
   ]
  },
  {
   "cell_type": "code",
   "execution_count": 36,
   "metadata": {},
   "outputs": [
    {
     "name": "stdout",
     "output_type": "stream",
     "text": [
      "YES\n"
     ]
    }
   ],
   "source": [
    "grid = ['ebacd', 'fghij', 'olmkn', 'trpqs', 'xywuv']\n",
    "def sortStr(s):\n",
    "    return \"\".join(sorted(list(s)))\n",
    "def gridChallenge(grid):\n",
    "    for i in range(len(grid)):\n",
    "            grid[i] = sortStr(grid[i])\n",
    "    for i in range(len(grid)-1):\n",
    "        min = grid[i]\n",
    "        for j in range(len(grid)):\n",
    "            if grid[i][j] > grid[i+1][j]:\n",
    "                return \"NO\"\n",
    "    return \"YES\"\n",
    "\n",
    "    \n",
    "print(gridChallenge(grid))"
   ]
  },
  {
   "cell_type": "code",
   "execution_count": 49,
   "metadata": {},
   "outputs": [
    {
     "data": {
      "text/plain": [
       "9"
      ]
     },
     "execution_count": 49,
     "metadata": {},
     "output_type": "execute_result"
    }
   ],
   "source": [
    "def superDigit(n, k):\n",
    "    n=n*k\n",
    "    somme = str(sum([int(i) for i in n]))\n",
    "    k=len(somme)\n",
    "    if k>1:\n",
    "        return superDigit(somme,1)\n",
    "    else:\n",
    "        return int(somme)\n",
    "superDigit('987524885885459864578645484846458899598846545585',100000)"
   ]
  },
  {
   "cell_type": "code",
   "execution_count": 32,
   "metadata": {},
   "outputs": [
    {
     "name": "stdout",
     "output_type": "stream",
     "text": [
      "ailosu\n"
     ]
    }
   ],
   "source": []
  }
 ],
 "metadata": {
  "kernelspec": {
   "display_name": "Python 3.10.0 64-bit ('3.10.0')",
   "language": "python",
   "name": "python3"
  },
  "language_info": {
   "codemirror_mode": {
    "name": "ipython",
    "version": 3
   },
   "file_extension": ".py",
   "mimetype": "text/x-python",
   "name": "python",
   "nbconvert_exporter": "python",
   "pygments_lexer": "ipython3",
   "version": "3.10.0"
  },
  "orig_nbformat": 4,
  "vscode": {
   "interpreter": {
    "hash": "ef08187334b5036711faa62f830457c82dfb93e1f02e05d079e5da23aa052804"
   }
  }
 },
 "nbformat": 4,
 "nbformat_minor": 2
}
