{
 "cells": [
  {
   "attachments": {},
   "cell_type": "markdown",
   "metadata": {},
   "source": [
    "### Reverse a String"
   ]
  },
  {
   "cell_type": "code",
   "execution_count": null,
   "metadata": {},
   "outputs": [],
   "source": [
    "def reverseWord(s):\n",
    "    return s[::-1]"
   ]
  },
  {
   "attachments": {},
   "cell_type": "markdown",
   "metadata": {},
   "source": [
    "### kotlin\n",
    "```kotlin\n",
    "fun reverseStr( text: String): String {\n",
    "        var montext = text.toMutableList()\n",
    "        var start = 0\n",
    "        var end = montext.size-1\n",
    "        while(start < end ){\n",
    "            var temp = montext[start]\n",
    "            montext[start] = montext[end]\n",
    "            montext[end] = temp\n",
    "            start++\n",
    "            end--\n",
    "        }\n",
    "        return montext.joinToString(\"\")\n",
    "    }\n",
    "```"
   ]
  }
 ],
 "metadata": {
  "language_info": {
   "name": "python"
  },
  "orig_nbformat": 4
 },
 "nbformat": 4,
 "nbformat_minor": 2
}
