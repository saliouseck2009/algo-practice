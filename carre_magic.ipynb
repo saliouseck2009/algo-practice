{
 "cells": [
  {
   "cell_type": "code",
   "execution_count": 33,
   "metadata": {},
   "outputs": [
    {
     "name": "stdout",
     "output_type": "stream",
     "text": [
      "{1, 2, 3, 4, 5, 6, 7, 8, 9}\n",
      "yes\n"
     ]
    }
   ],
   "source": [
    "n = int(input())\n",
    "# matrix = list()\n",
    "# for rect in range(n):\n",
    "#     data =  input()\n",
    "#     matrix.extend([list(map(int, data.split())) ])\n",
    "matrix=[\n",
    "    [6, 1, 8],\n",
    "    [7, 5, 3],\n",
    "    [2, 9, 4]]\n",
    "all_matrix_element = set()\n",
    "is_magic_square=\"yes\" \n",
    "magic_number = sum(matrix[0])\n",
    "diag_descandant = set()\n",
    "diag_ascandant = set()\n",
    "tab_col = [[0 for _ in range(n)] for _ in range(n)]\n",
    "for row in range(len(matrix)):\n",
    "    if len(set(matrix[row]))==n and sum(matrix[row])==magic_number:\n",
    "        for col in range(len(matrix[row])):\n",
    "            all_matrix_element.add(matrix[row][col])\n",
    "            tab_col[col][row]=matrix[row][col]\n",
    "            if col == row :\n",
    "                diag_descandant.add(matrix[row][col])\n",
    "            if row == n-col-1:\n",
    "                diag_ascandant.add(matrix[row][col]) \n",
    "    else: \n",
    "        is_magic_square=\"no\"\n",
    "        break\n",
    "for row in range(n):\n",
    "     if len(set(tab_col[row]))!=n or sum(tab_col[row])!=magic_number:\n",
    "            is_magic_square =\"no\" \n",
    "if len(diag_ascandant)!=n or sum(diag_ascandant)!=magic_number:\n",
    "    is_magic_square=\"no\" \n",
    "if len(diag_descandant)!=n or sum(diag_descandant)!=magic_number:\n",
    "    is_magic_square=\"no\" \n",
    "print(all_matrix_element)\n",
    "for i in range(1,n**2+1):\n",
    "    if i not in all_matrix_element:\n",
    "        is_magic_square=\"no\"\n",
    "print(is_magic_square)\n",
    "        \n",
    "\n",
    "\n",
    "\n"
   ]
  },
  {
   "cell_type": "code",
   "execution_count": 37,
   "metadata": {},
   "outputs": [
    {
     "data": {
      "text/plain": [
       "True"
      ]
     },
     "execution_count": 37,
     "metadata": {},
     "output_type": "execute_result"
    }
   ],
   "source": []
  }
 ],
 "metadata": {
  "kernelspec": {
   "display_name": "Python 3.10.0 64-bit ('3.10.0')",
   "language": "python",
   "name": "python3"
  },
  "language_info": {
   "codemirror_mode": {
    "name": "ipython",
    "version": 3
   },
   "file_extension": ".py",
   "mimetype": "text/x-python",
   "name": "python",
   "nbconvert_exporter": "python",
   "pygments_lexer": "ipython3",
   "version": "3.10.0"
  },
  "orig_nbformat": 4,
  "vscode": {
   "interpreter": {
    "hash": "ef08187334b5036711faa62f830457c82dfb93e1f02e05d079e5da23aa052804"
   }
  }
 },
 "nbformat": 4,
 "nbformat_minor": 2
}
