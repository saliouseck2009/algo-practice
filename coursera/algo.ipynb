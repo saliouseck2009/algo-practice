{
 "cells": [
  {
   "cell_type": "markdown",
   "metadata": {},
   "source": [
    "### Money Change"
   ]
  },
  {
   "cell_type": "code",
   "execution_count": 1,
   "metadata": {},
   "outputs": [
    {
     "name": "stdout",
     "output_type": "stream",
     "text": [
      "1\n"
     ]
    }
   ],
   "source": [
    "money = 10\n",
    "print(money//10 + (money%10)//5 + money%5)\n",
    "    "
   ]
  },
  {
   "cell_type": "code",
   "execution_count": 5,
   "metadata": {},
   "outputs": [
    {
     "name": "stdout",
     "output_type": "stream",
     "text": [
      "19:05:45\n"
     ]
    }
   ],
   "source": [
    "def timeConversion(s):\n",
    "    if s[-2:]==\"PM\":\n",
    "        return f\"{str(int(s[:2])+12)+s[2:-2]}\" if s[:2]!=\"12\" else s[:-2]\n",
    "    else: \n",
    "        return s[:-2] if s[:2]!=\"12\" else f\"00{s[2:-2]}\"\n",
    "   # return   f\"{str(int(s[:2])+12)+s[2:-2]}\" if s[-2:]==\"PM\" else s[:-2]\n",
    "print(timeConversion(\"07:05:45PM\"))"
   ]
  },
  {
   "cell_type": "code",
   "execution_count": 1,
   "metadata": {},
   "outputs": [
    {
     "data": {
      "text/plain": [
       "'07'"
      ]
     },
     "execution_count": 1,
     "metadata": {},
     "output_type": "execute_result"
    }
   ],
   "source": [
    "chaine = \"07:05:45PM\"\n",
    "chaine[:2]"
   ]
  },
  {
   "cell_type": "markdown",
   "metadata": {},
   "source": [
    "### Between two sets"
   ]
  },
  {
   "cell_type": "code",
   "execution_count": 2,
   "metadata": {},
   "outputs": [
    {
     "data": {
      "text/plain": [
       "1"
      ]
     },
     "execution_count": 2,
     "metadata": {},
     "output_type": "execute_result"
    }
   ],
   "source": [
    "def getTotalX(a, b):\n",
    "    elements = 0\n",
    "    index = 0\n",
    "    for i in range(1,10):\n",
    "        is_in_set = True\n",
    "        for j in range(len(a)):\n",
    "            if i%a[j]!=0:\n",
    "                is_in_set = False\n",
    "                break \n",
    "        for k in range(len(b)):\n",
    "            if b[k]%i!=0:\n",
    "                is_in_set = False \n",
    "                break \n",
    "        if is_in_set==True:\n",
    "            elements+=1\n",
    "    return elements\n",
    "\n",
    "getTotalX([2,6],[24,36])"
   ]
  },
  {
   "cell_type": "code",
   "execution_count": 3,
   "metadata": {},
   "outputs": [
    {
     "data": {
      "text/plain": [
       "'40'"
      ]
     },
     "execution_count": 3,
     "metadata": {},
     "output_type": "execute_result"
    }
   ],
   "source": [
    "def breakingRecords(scores):\n",
    "    min_s=max_s=scores[0]\n",
    "    worst=best=0\n",
    "    score_length=len(scores)\n",
    "    for index in range(1,score_length): \n",
    "        if scores[index]> max_s:\n",
    "            max_s=scores[index]\n",
    "            best+=1\n",
    "        if scores[index]< min_s:\n",
    "            min_s = scores[index]\n",
    "            worst+=1\n",
    "    return f\"{best}{worst}\"\n",
    "breakingRecords([3, 4, 21, 36, 10, 28, 35, 5, 24, 42])"
   ]
  },
  {
   "cell_type": "code",
   "execution_count": 5,
   "metadata": {},
   "outputs": [
    {
     "data": {
      "text/plain": [
       "'1410'"
      ]
     },
     "execution_count": 5,
     "metadata": {},
     "output_type": "execute_result"
    }
   ],
   "source": [
    "chaine =\"171645 4199460 1792941 7634143 5126340 8930592 3440006 6437607 3736481 3236750 5410071 17094 8636427 5856681 4534760 666362 511247 2277874 4070151 7072691 9130059 8311177 6651100 8537755 3390569 516039 93759 3338879 8624243 6066083 345618 4511761 1714620 3593758 7118005 4981262 1786085 4050835 8557577 9057470 9879447 997843 696642 2333744 8548635 7996240 5448625 167471 4597637 2964368 9444031 8296411 1670774 4683653 5152188 239202 3614632 4528194 2660120 9148511 5694470 5119362 9569105 8522692 4264415 6015088 4649043 54914 1775098 6764521 8796042 7558923 2613472 1754652 9365408 1598701 3180618 1535678 2337600 7132817 1561783 626813 7875758 7963348 5652998 2178143 4034296 1892418 6856888 7037713 4882937 6614879 5687181 5813279 8225281 9743149 6410355 1514243 1384394 4336969 9338164 652785 121235 436580 2358626 4613124 21643412 10321472 29478561 10355376 24297200 2777259 1551192 25410020 18731797 19039332 21394807 16975125 9470025 5770518 15218703 4286568 1627997 2929062 1175495 9026753 24895667 16412955 16088218 17682447 26786318 13122680 12596600 1579871 22642215 8911630 1880383 19839386 8138942 14831292 3729238 973485 5841114 14138118 18455769 1782052 18775048 8439564 20035242 3554626 15746177 25654727 6080806 1451293 14858914 3750538 20589687 22345763 20186816 18192837 18537150 2891024 9812326 188198 6890024 17741377 15337433 20479113 926570 15954340 18562048 23069990 18775254 5398888 2215986 27837360 23682967 8481686 14578973 13659213 24969413 24237902 19913047 6774143 16996478 351454 22766066 19626614 17219901 25536094 28766285 2065375 25228191 11360898 161650 6325217 1553406 17126966 20529190 935126 26945945 181548 1140729 11486035 1311721 12912870 10611936 14633611 7921659 26196347 26163676 16443429 1341035 4716239 7787857 16688598 1544299 9878517 22849013 15222011 863033 28251445 12169480 10887800 13912269 4747153 19722063 18225732 5077329 7186028 389689 22648044 14080125 16191721 29091113 23228928 9964966 12541820 14698133 17341938 5446472 19119052 23696025 28424338 1063107 16687597 1491345 14175841 22262203 16259664 6897647 14496519 1651670 14013412 203665 5042910 3760793 26232025 11823098 6462876 15783082 17371706 1272467 4898601 7031462 11750690 16179562 16224427 2321902 3997387 679541 24966056 18618611 18243504 26154446 32619 22873206 12538308 27336225 26156695 24027879 3729501 9387299 1285025 2538119 26424472 11275414 22920698 17788611 5468439 1093287 1013289 4557735 19784870 11321211 21794353 29098006 20672883 25894135 16023563 629376 3668971 39054917 22131520 48086576 51119289 4151721 13015412 408528 28286121 29174551 263533 30937033 41690567 32087028 53182478 20478519 24937547 3657471 679668 1991730 30966614 25194239 22679259 51998660 33349210 21178559 54362120 59245511 24079464 13999523 14365296 24213392 19527830 154614 5047614 34499159 2289795 19812606 4064518 46687139 80829 49922824 10297643 48748342 30833579 1739051 47542259 59534422 4156011 43640291 57745380 20234206 52749200 41276933 27074431 22556503 46046124 47954562 11980366 5653579 14583473 38229172 8477778 19428525 14118982 56870118 31440970 7652241 32383841 32792945 27225952 44833532 42845127 9548547 4467351 47955791 22527461 11632909 39181262 18788084 44579307 40380959 43095231 15343153 47211432 25037344 18418251 27725812 17875324 3115224 2725542 36889852 20478684 31474595 54633253 28076543 16037235 5565542 6623408 24711539 44077498 43588576 34936112 14075479 23637803 5610464 14674424 26816350 6072134 9745758 33986329 50250652 31612509 59472383 26941242 743461 49265509 23747193 37439129 27245762 33219728 37840278 5045599 58079964 13396630 32315825 31164377 47739228 28699023 16329155 21744589 41691709 49841005 45444424 53477927 38757066 20762765 49724512 5643029 7662450 41146551 7515323 12861104 50387814 27998866 12133097 5582289 35869905 9412765 823428 9220869 474699 346896 41168351 52550040 20142289 39125428 2127520 8444867 8695715 28561360 123540 24986323 39766944 8820479 1246132 10063571 58341335 21972747 23896745 38773191 58635730 21929350 20217855 41787641 17034302 158735 1949002 41060343 9876850 22395375 53438523 49826517 21062118 6438600 1538403 39130601 48626762 55150088 41734168 48174540 4703082 27522664 23711037 40720735 8780182 31087221 45891409 29047620 69879 45707 86221 45094 84110 98012 75695 90948 24775 35646 41037 85744 69814 95118 60284 54636 14553 9911 93652 59342 20948 93011 96429 25187 89546 12540 28760 40956 20301 58851 88576 90180 4558 91149 51626 5020 89162 27321 95969 30289 62967 53358 32385 49133 64828 92670 20121 95733 18933 30125 55075 56234 23136 51505 81421 29034 80397 26534 69990 17050 85385 58567 23582 89943 49716 75208 11315 55230 2529 7284 1871 81848 76994 34257 47333 41823 43279 83806 53908 78564 13931 8984 34798 53419 76841 32572 82454 57238 59106 52444 90640 44491 27363 14222 50786 93432 5782 78453 48662 24663 85738 66886 22863 79084 17495 70196 37259 60774 54002 91168 39338 84285 152 90489 37704 93345 23061 20158 50583 98519 72603 57575 59362 16318 71797 26500 9750 93931 4953 74765 18594 7043 41651 41457 86128 59146 28005 23387 36272 98359 14555 91962 82644 31059 82451 20348 24404 21864 56859 91339 36735 29462 48914 96097 45780 37063 22597 71883 47346 43903 46648 65940 50946 88299 23749 53426 47445 51754 76814 69 50113 7721 92031 49109 55133 74483 69458 95889 12699 26317 87229 49435 72131 52495 45532 34263 5911 84482 6146 53257 28385 52794 35550 79331 57445 59299 32758 21242 11054 25924 21311 77519 49997 13343 26629 5130 4178 12439 1020 16877 55108 4601 66312 43591 57096 28197 77854 79359 29031 353 32617 57416 69499 68167 53099 26945 43818 2209 64539 54872 44485 85851 48744 94483 99194 75373 99613 19724 4164 16985 36601 59272 21586 19266 2863 95035 63815 97069 90746 92846 13774 23363 50262 83274 7882 19713 26571 51701 38275 91110 22925 82760 93313 71669 77243 8859 63394 93209 28583 67558 26546 81537 43182 48133 803 62397 59520 80970 75819 50266 73816 89593 89982 40430 89219 14216 76495 32142 82269 14770 23253 5195 97531 32918 93216 74774 41778 56611 84335 70361 40521 10882 68250 56 75367 85405 62453 51239 66375 54624 1505 40191 44218 7839 96973 49789 22056 73469 81932 4325 88239 21537 25872 85770 54455 19089 76897 96233 92052 77584 82947 48925 88466 51197 48981 80185 36603 27787 31424 2978 82411 49282 59522 26629 73473 72847 76419 11881 46316 74703 32559 50908 96240 58431 53030 50695 93872 46279 63281 2276 23864 62580 51202 28682 13777 183 8868 66732 27970 56644 86063 10382 22278 45585 53363 95752 34784 46134 7633 81101 20837 40192 48361 33429 14976 1391 477 8848 47671 63758 27477 71535 26338 78679 16569 56467 78862 25437 23200 23185 98434 9263 49919 20712 71200 3282 16464 5984 65769 40450 3437 86606 96994 51798 20036 11970 69542 20513 37171 17213 623 64648 5100 43313 43327 21669 99780 38541 63459 39332 61726 78245 48595 27997 98957 19795 31280 31774 42132 97049 72224 45569 7 69218 13720 36395 97541 83262 73260 34712 16827 73883 15712 38279 17196 59039 76300 33329 13932 56111 72661 92011 34356 37609 20008 49666 73756 67640 81440 15888 81041 70016 77810 81049 39234 7882 33796 53127 7496 7057 87839 40675 97292 3551 78954 30841 78942 71606 64170 92875 27718 53183 1238 78426 90792 21246 28092 64549 5239 25884\"\n",
    "chaine_list = chaine.split()\n",
    "liste = [int(i) for i in chaine_list]\n",
    "breakingRecords(liste)"
   ]
  },
  {
   "cell_type": "code",
   "execution_count": 6,
   "metadata": {},
   "outputs": [
    {
     "name": "stdout",
     "output_type": "stream",
     "text": [
      "[2, 2]\n",
      "4\n",
      "[2, 1]\n",
      "2\n",
      "[1, 3]\n",
      "0\n",
      "[3, 2]\n",
      "0\n"
     ]
    },
    {
     "data": {
      "text/plain": [
       "2"
      ]
     },
     "execution_count": 6,
     "metadata": {},
     "output_type": "execute_result"
    }
   ],
   "source": [
    "def birthday(s, d, m):\n",
    "    segments = 0\n",
    "    taille_s = len(s)\n",
    "    for i in range(taille_s-m+1):\n",
    "        if sum(s[i:i+m])==d:\n",
    "            segments+=1\n",
    "    return segments\n",
    "birthday([2, 2, 1, 3, 2],4,2)"
   ]
  },
  {
   "cell_type": "code",
   "execution_count": null,
   "metadata": {},
   "outputs": [],
   "source": [
    "def divisibleSumPairs(n, k, ar):\n",
    "    counter = 0\n",
    "    n = len(ar)\n",
    "    for i in range(n):\n",
    "        for j in range(i+1,n):\n",
    "            print(f\"{ar[i]}+{ar[j]}\")\n",
    "            if (ar[i]+ar[j]) %k==0:\n",
    "                counter+=1\n",
    "    return counter \n",
    "divisibleSumPairs(6,3,[1, 3, 2, 6, 1, 2])"
   ]
  },
  {
   "cell_type": "code",
   "execution_count": 30,
   "metadata": {},
   "outputs": [
    {
     "data": {
      "text/plain": [
       "5"
      ]
     },
     "execution_count": 30,
     "metadata": {},
     "output_type": "execute_result"
    }
   ],
   "source": [
    "def divisibleSumPairs(n, k, ar):\n",
    "    return len([i for i in range(n) for j in range(i+1,n) if (ar[i]+ar[j]) %k==0])\n",
    "\n",
    "    \n",
    "divisibleSumPairs(6,3,[1, 3, 2, 6, 1, 2])"
   ]
  },
  {
   "cell_type": "code",
   "execution_count": 5,
   "metadata": {},
   "outputs": [
    {
     "name": "stdout",
     "output_type": "stream",
     "text": [
      "True\n",
      "True\n",
      "True\n",
      "True\n",
      "True\n"
     ]
    }
   ],
   "source": [
    "s=\"Sai5\"\n",
    "print(any([x for x in s if x.isalnum()]))\n",
    "print(any([x for x in s if x.isalpha()]))\n",
    "print(any([x for x in s if x.isdigit()]))\n",
    "print(any([x for x in s if x.islower()]))\n",
    "print(any([x for x in s if x.isupper()]))"
   ]
  },
  {
   "cell_type": "markdown",
   "metadata": {},
   "source": [
    "## Greedy problems"
   ]
  },
  {
   "cell_type": "markdown",
   "metadata": {},
   "source": [
    "### Maximum value of the loot"
   ]
  },
  {
   "cell_type": "code",
   "execution_count": 15,
   "metadata": {},
   "outputs": [
    {
     "name": "stdout",
     "output_type": "stream",
     "text": [
      "180.0\n"
     ]
    }
   ],
   "source": [
    "capacity = 50\n",
    "# weights=[30]\n",
    "weights=[20, 50, 30]\n",
    "# prices= [500]\n",
    "prices= [60, 100, 120]\n",
    "for i in range(len(weights)):\n",
    "    mini_p = i\n",
    "    mini_w = i\n",
    "    mini = prices[mini_p]/weights[mini_p]\n",
    "    for j in range(i+1, len(weights)):\n",
    "        if prices[j]/weights[j] < mini:\n",
    "            mini = prices[j]/weights[j]\n",
    "            mini_p = j\n",
    "    prices[i], prices[mini_p] = prices[mini_p], prices[i] \n",
    "    weights[i], weights[mini_p] = weights[mini_p], weights[i] \n",
    "curr_index = len(weights)-1\n",
    "price = 0\n",
    "while curr_index>0:\n",
    "        \n",
    "    price =price + prices[curr_index]*(capacity//weights[curr_index])\n",
    "    capacity = capacity%weights[curr_index]\n",
    "    curr_index-=1\n",
    "price =price + prices[curr_index]*(capacity/weights[curr_index])\n",
    "print(price)\n"
   ]
  },
  {
   "cell_type": "markdown",
   "metadata": {},
   "source": [
    "### Car Fueling"
   ]
  },
  {
   "cell_type": "code",
   "execution_count": 17,
   "metadata": {},
   "outputs": [
    {
     "ename": "TypeError",
     "evalue": "'>=' not supported between instances of 'int' and 'list'",
     "output_type": "error",
     "traceback": [
      "\u001b[1;31m---------------------------------------------------------------------------\u001b[0m",
      "\u001b[1;31mTypeError\u001b[0m                                 Traceback (most recent call last)",
      "\u001b[1;32mc:\\Users\\saliou.seck\\Documents\\algo\\algo-practice\\coursera\\algo.ipynb Cellule 17\u001b[0m in \u001b[0;36m<cell line: 16>\u001b[1;34m()\u001b[0m\n\u001b[0;32m     <a href='vscode-notebook-cell:/c%3A/Users/saliou.seck/Documents/algo/algo-practice/coursera/algo.ipynb#X23sZmlsZQ%3D%3D?line=12'>13</a>\u001b[0m         stops\u001b[39m.\u001b[39mpop(\u001b[39m0\u001b[39m)\n\u001b[0;32m     <a href='vscode-notebook-cell:/c%3A/Users/saliou.seck/Documents/algo/algo-practice/coursera/algo.ipynb#X23sZmlsZQ%3D%3D?line=13'>14</a>\u001b[0m     \u001b[39mreturn\u001b[39;00m \u001b[39m1\u001b[39m\u001b[39m+\u001b[39mrefils(lastStop,stops, m,d)\n\u001b[1;32m---> <a href='vscode-notebook-cell:/c%3A/Users/saliou.seck/Documents/algo/algo-practice/coursera/algo.ipynb#X23sZmlsZQ%3D%3D?line=15'>16</a>\u001b[0m refils(\u001b[39m0\u001b[39;49m,d,m,stops)\n",
      "\u001b[1;32mc:\\Users\\saliou.seck\\Documents\\algo\\algo-practice\\coursera\\algo.ipynb Cellule 17\u001b[0m in \u001b[0;36mrefils\u001b[1;34m(location, d, m, stops)\u001b[0m\n\u001b[0;32m     <a href='vscode-notebook-cell:/c%3A/Users/saliou.seck/Documents/algo/algo-practice/coursera/algo.ipynb#X23sZmlsZQ%3D%3D?line=11'>12</a>\u001b[0m     lastStop \u001b[39m=\u001b[39m stops[\u001b[39m0\u001b[39m]\n\u001b[0;32m     <a href='vscode-notebook-cell:/c%3A/Users/saliou.seck/Documents/algo/algo-practice/coursera/algo.ipynb#X23sZmlsZQ%3D%3D?line=12'>13</a>\u001b[0m     stops\u001b[39m.\u001b[39mpop(\u001b[39m0\u001b[39m)\n\u001b[1;32m---> <a href='vscode-notebook-cell:/c%3A/Users/saliou.seck/Documents/algo/algo-practice/coursera/algo.ipynb#X23sZmlsZQ%3D%3D?line=13'>14</a>\u001b[0m \u001b[39mreturn\u001b[39;00m \u001b[39m1\u001b[39m\u001b[39m+\u001b[39mrefils(lastStop,stops, m,d)\n",
      "\u001b[1;32mc:\\Users\\saliou.seck\\Documents\\algo\\algo-practice\\coursera\\algo.ipynb Cellule 17\u001b[0m in \u001b[0;36mrefils\u001b[1;34m(location, d, m, stops)\u001b[0m\n\u001b[0;32m      <a href='vscode-notebook-cell:/c%3A/Users/saliou.seck/Documents/algo/algo-practice/coursera/algo.ipynb#X23sZmlsZQ%3D%3D?line=3'>4</a>\u001b[0m \u001b[39mdef\u001b[39;00m \u001b[39mrefils\u001b[39m(location,d,m,stops:\u001b[39mlist\u001b[39m):\n\u001b[0;32m      <a href='vscode-notebook-cell:/c%3A/Users/saliou.seck/Documents/algo/algo-practice/coursera/algo.ipynb#X23sZmlsZQ%3D%3D?line=4'>5</a>\u001b[0m     location \u001b[39m=\u001b[39m \u001b[39m0\u001b[39m \n\u001b[1;32m----> <a href='vscode-notebook-cell:/c%3A/Users/saliou.seck/Documents/algo/algo-practice/coursera/algo.ipynb#X23sZmlsZQ%3D%3D?line=5'>6</a>\u001b[0m     \u001b[39mif\u001b[39;00m location \u001b[39m+\u001b[39;49m m \u001b[39m>\u001b[39;49m\u001b[39m=\u001b[39;49m d: \n\u001b[0;32m      <a href='vscode-notebook-cell:/c%3A/Users/saliou.seck/Documents/algo/algo-practice/coursera/algo.ipynb#X23sZmlsZQ%3D%3D?line=6'>7</a>\u001b[0m         \u001b[39mreturn\u001b[39;00m \u001b[39m0\u001b[39m\n\u001b[0;32m      <a href='vscode-notebook-cell:/c%3A/Users/saliou.seck/Documents/algo/algo-practice/coursera/algo.ipynb#X23sZmlsZQ%3D%3D?line=7'>8</a>\u001b[0m     \u001b[39mif\u001b[39;00m \u001b[39mlen\u001b[39m(stops)\u001b[39m==\u001b[39m\u001b[39m0\u001b[39m \u001b[39mor\u001b[39;00m (stops[\u001b[39m0\u001b[39m]\u001b[39m-\u001b[39mlocation)\u001b[39m>\u001b[39mm:\n",
      "\u001b[1;31mTypeError\u001b[0m: '>=' not supported between instances of 'int' and 'list'"
     ]
    }
   ],
   "source": [
    "d, m = 950, 400\n",
    "stops = [200, 375, 550, 750]\n",
    "answer = 2\n",
    "def refils(location,d,m,stops:list):\n",
    "    location = 0 \n",
    "    if location + m >= d: \n",
    "        return 0\n",
    "    if len(stops)==0 or (stops[0]-location)>m:\n",
    "        return \n",
    "    lastStop = location \n",
    "    while len(stops)!=0 and (stops[0]-location)<=m:\n",
    "        lastStop = stops[0]\n",
    "        stops.pop(0)\n",
    "    return 1+refils(lastStop,stops, m,d)\n",
    "    \n",
    "refils(0,d,m,stops)"
   ]
  },
  {
   "cell_type": "code",
   "execution_count": 10,
   "metadata": {},
   "outputs": [
    {
     "data": {
      "text/plain": [
       "True"
      ]
     },
     "execution_count": 10,
     "metadata": {},
     "output_type": "execute_result"
    }
   ],
   "source": [
    "def is_leap_year(n):\n",
    "    return True if  n%400==0 or (n%4==0 and n%100!=0) else False\n",
    "is_leap_year(2088)\n",
    "\n",
    "def dayOfProgrammer(year):\n",
    "    if is_leap_year(year):\n",
    "        return f\"{256-244}.09.{year}\"\n",
    "    else: \n",
    "        return f\"{256-243}.09.{year}\"\n"
   ]
  },
  {
   "cell_type": "code",
   "execution_count": 11,
   "metadata": {},
   "outputs": [
    {
     "data": {
      "text/plain": [
       "True"
      ]
     },
     "execution_count": 11,
     "metadata": {},
     "output_type": "execute_result"
    }
   ],
   "source": [
    "is_leap_year(2088)"
   ]
  },
  {
   "cell_type": "code",
   "execution_count": 14,
   "metadata": {},
   "outputs": [
    {
     "name": "stdout",
     "output_type": "stream",
     "text": [
      "Maximum value we can obtain = 500.0\n"
     ]
    }
   ],
   "source": [
    "# Structure for an item which stores weight and\n",
    "# corresponding value of Item\n",
    "class Item:\n",
    "\tdef __init__(self, value, weight):\n",
    "\t\tself.value = value\n",
    "\t\tself.weight = weight\n",
    "\n",
    "# Main greedy function to solve problem\n",
    "def fractionalKnapsack(W, arr):\n",
    "\n",
    "\t# sorting Item on basis of ratio\n",
    "\tarr.sort(key=lambda x: (x.value/x.weight), reverse=True)\n",
    "\n",
    "\t# Uncomment to see new order of Items with their\n",
    "\t# ratio\n",
    "\t# for item in arr:\n",
    "\t#\t print(item.value, item.weight, item.value/item.weight)\n",
    "\n",
    "\t# Result(value in Knapsack)\n",
    "\tfinalvalue = 0.0\n",
    "\n",
    "\t# Looping through all Items\n",
    "\tfor item in arr:\n",
    "\n",
    "\t\t# If adding Item won't overflow, add it completely\n",
    "\t\tif item.weight <= W:\n",
    "\t\t\tW -= item.weight\n",
    "\t\t\tfinalvalue += item.value\n",
    "\n",
    "\t\t# If we can't add current Item, add fractional part\n",
    "\t\t# of it\n",
    "\t\telse:\n",
    "\t\t\tfinalvalue += item.value * W / item.weight\n",
    "\t\t\tbreak\n",
    "\t# Returning final value\n",
    "\treturn finalvalue\n",
    "\n",
    "\n",
    "# Driver's Code\n",
    "if __name__ == \"__main__\":\n",
    "\n",
    "\t# Weight of Knapsack\n",
    "\tW = 50\n",
    "\tarr = [Item(500, 30)]\n",
    "\n",
    "\t# Function call\n",
    "\tmax_val = fractionalKnapsack(W, arr)\n",
    "\tprint ('Maximum value we can obtain = {}'.format(max_val))\n"
   ]
  },
  {
   "cell_type": "code",
   "execution_count": 23,
   "metadata": {},
   "outputs": [
    {
     "data": {
      "text/plain": [
       "7"
      ]
     },
     "execution_count": 23,
     "metadata": {},
     "output_type": "execute_result"
    }
   ],
   "source": [
    "carre_magic_3 = [[[4,9,2],[3,5,7],[8,1,6]],\n",
    "                [[2,7,6],[9,5,1],[4,3,8]],\n",
    "                [[6,1,8], [7,5,3],[2,9,4]],\n",
    "                [[8,3,4],[1,5,9],[6,7,2]],\n",
    "                [[2,9,4],[7,5,3],[6,1,8]],\n",
    "                [[6,7,2],[1,5,9],[8,3,4]],\n",
    "                [[8,1,6],[3,5,7],[4,9,2]],\n",
    "                [[4,3,8],[9,5,1],[2,7,6]]]\n",
    "\n",
    "def formingMagicSquare(s):\n",
    "    costs = [0]*8\n",
    "    index_cost = 0\n",
    "    for carre in carre_magic_3:\n",
    "        \n",
    "        for i in range(3):\n",
    "            for j in range(3):\n",
    "                costs[index_cost]+=abs(s[i][j]-carre[i][j])\n",
    "        index_cost+=1\n",
    "    return min(costs)\n",
    "formingMagicSquare([[5, 3, 4], [1, 5, 8], [6, 4, 2]])"
   ]
  }
 ],
 "metadata": {
  "kernelspec": {
   "display_name": "Python 3.10.0 64-bit ('3.10.0')",
   "language": "python",
   "name": "python3"
  },
  "language_info": {
   "codemirror_mode": {
    "name": "ipython",
    "version": 3
   },
   "file_extension": ".py",
   "mimetype": "text/x-python",
   "name": "python",
   "nbconvert_exporter": "python",
   "pygments_lexer": "ipython3",
   "version": "3.10.0"
  },
  "orig_nbformat": 4,
  "vscode": {
   "interpreter": {
    "hash": "ef08187334b5036711faa62f830457c82dfb93e1f02e05d079e5da23aa052804"
   }
  }
 },
 "nbformat": 4,
 "nbformat_minor": 2
}
