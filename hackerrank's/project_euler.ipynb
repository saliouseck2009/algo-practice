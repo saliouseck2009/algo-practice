{
 "cells": [
  {
   "cell_type": "markdown",
   "metadata": {},
   "source": [
    "### Project Euler #1: Multiples of 3 and 5"
   ]
  },
  {
   "cell_type": "code",
   "execution_count": null,
   "metadata": {},
   "outputs": [],
   "source": [
    "import sys\n",
    "\n",
    "t = int(input().strip())\n",
    "for a0 in range(t):\n",
    "    n = int(input().strip())\n",
    "    print (sum([i for i in range(1,n) if i % 5== 0 or i%3==0]))"
   ]
  },
  {
   "cell_type": "code",
   "execution_count": 2,
   "metadata": {},
   "outputs": [
    {
     "data": {
      "text/plain": [
       "1333"
      ]
     },
     "execution_count": 2,
     "metadata": {},
     "output_type": "execute_result"
    }
   ],
   "source": [
    "import math\n",
    "def pageCount(n, p):\n",
    "    return min([math.ceil((p-1)/2), math.ceil((n-p)/2)]) if n %2==0 else min([math.floor((p-1)/2), math.floor((n-p)/2)])\n",
    "pageCount(5809,2668)"
   ]
  },
  {
   "cell_type": "code",
   "execution_count": null,
   "metadata": {},
   "outputs": [],
   "source": [
    "def countingValleys(steps, path):\n",
    "    position = 0 \n",
    "    old_pos = 0\n",
    "    traversed_valleys= 0\n",
    "    for i in path:\n",
    "        old_pos=position\n",
    "        if i=='U':\n",
    "            position+=1\n",
    "        else: \n",
    "            position-=1\n",
    "        if position == 0 and old_pos==-1:\n",
    "            traversed_valleys+=1\n",
    "    return traversed_valleys\n",
    "countingValleys(8,\"UDDDUDUU\")"
   ]
  },
  {
   "cell_type": "code",
   "execution_count": 7,
   "metadata": {},
   "outputs": [
    {
     "data": {
      "text/plain": [
       "8"
      ]
     },
     "execution_count": 7,
     "metadata": {},
     "output_type": "execute_result"
    }
   ],
   "source": [
    "def getMoneySpent(keyboards, drives, b):\n",
    "    maxi = -1\n",
    "    taille_drive = len(drives)\n",
    "    taille_keybord = len(keyboards)\n",
    "    for i in range(taille_drive):\n",
    "        for j in range(i,taille_keybord):\n",
    "            purchase = keyboards[i]+drives[j]\n",
    "            if purchase<b and purchase>maxi:\n",
    "                maxi = purchase\n",
    "    return maxi\n",
    "getMoneySpent([3,1],[5,2,8],10)"
   ]
  }
 ],
 "metadata": {
  "kernelspec": {
   "display_name": "Python 3.10.0 64-bit ('3.10.0')",
   "language": "python",
   "name": "python3"
  },
  "language_info": {
   "codemirror_mode": {
    "name": "ipython",
    "version": 3
   },
   "file_extension": ".py",
   "mimetype": "text/x-python",
   "name": "python",
   "nbconvert_exporter": "python",
   "pygments_lexer": "ipython3",
   "version": "3.10.0"
  },
  "orig_nbformat": 4,
  "vscode": {
   "interpreter": {
    "hash": "ef08187334b5036711faa62f830457c82dfb93e1f02e05d079e5da23aa052804"
   }
  }
 },
 "nbformat": 4,
 "nbformat_minor": 2
}
