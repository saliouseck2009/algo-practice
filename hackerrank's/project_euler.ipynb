{
 "cells": [
  {
   "cell_type": "markdown",
   "metadata": {},
   "source": [
    "### Project Euler #1: Multiples of 3 and 5"
   ]
  },
  {
   "cell_type": "code",
   "execution_count": null,
   "metadata": {},
   "outputs": [],
   "source": [
    "import sys\n",
    "\n",
    "t = int(input().strip())\n",
    "for a0 in range(t):\n",
    "    n = int(input().strip())\n",
    "    print (sum([i for i in range(1,n) if i % 5== 0 or i%3==0]))"
   ]
  },
  {
   "cell_type": "code",
   "execution_count": 2,
   "metadata": {},
   "outputs": [
    {
     "data": {
      "text/plain": [
       "1333"
      ]
     },
     "execution_count": 2,
     "metadata": {},
     "output_type": "execute_result"
    }
   ],
   "source": [
    "import math\n",
    "def pageCount(n, p):\n",
    "    return min([math.ceil((p-1)/2), math.ceil((n-p)/2)]) if n %2==0 else min([math.floor((p-1)/2), math.floor((n-p)/2)])\n",
    "pageCount(5809,2668)"
   ]
  },
  {
   "cell_type": "code",
   "execution_count": null,
   "metadata": {},
   "outputs": [],
   "source": [
    "def countingValleys(steps, path):\n",
    "    position = 0 \n",
    "    old_pos = 0\n",
    "    traversed_valleys= 0\n",
    "    for i in path:\n",
    "        old_pos=position\n",
    "        if i=='U':\n",
    "            position+=1\n",
    "        else: \n",
    "            position-=1\n",
    "        if position == 0 and old_pos==-1:\n",
    "            traversed_valleys+=1\n",
    "    return traversed_valleys\n",
    "countingValleys(8,\"UDDDUDUU\")"
   ]
  },
  {
   "cell_type": "code",
   "execution_count": 7,
   "metadata": {},
   "outputs": [
    {
     "data": {
      "text/plain": [
       "8"
      ]
     },
     "execution_count": 7,
     "metadata": {},
     "output_type": "execute_result"
    }
   ],
   "source": [
    "def getMoneySpent(keyboards, drives, b):\n",
    "    maxi = -1\n",
    "    taille_drive = len(drives)\n",
    "    taille_keybord = len(keyboards)\n",
    "    for i in range(taille_drive):\n",
    "        for j in range(i,taille_keybord):\n",
    "            purchase = keyboards[i]+drives[j]\n",
    "            if purchase<b and purchase>maxi:\n",
    "                maxi = purchase\n",
    "    return maxi\n",
    "getMoneySpent([3,1],[5,2,8],10)"
   ]
  },
  {
   "cell_type": "code",
   "execution_count": 13,
   "metadata": {},
   "outputs": [
    {
     "data": {
      "text/plain": [
       "2"
      ]
     },
     "execution_count": 13,
     "metadata": {},
     "output_type": "execute_result"
    }
   ],
   "source": [
    "def pickingNumbers(a):\n",
    "    a.sort()\n",
    "    max_taille = 0\n",
    "    counter = 0\n",
    "    pos = 0\n",
    "    for i in range(len(a)-1):\n",
    "        if abs(a[pos]-a[i+1])<=1:\n",
    "            counter+=1\n",
    "        else:\n",
    "            pos = i+1\n",
    "            counter = 0\n",
    "        if counter>max_taille:\n",
    "                max_taille = counter \n",
    "    return max_taille+1\n",
    "pickingNumbers([4 ,6, 5, 3, 3 ,1])"
   ]
  },
  {
   "cell_type": "code",
   "execution_count": 10,
   "metadata": {},
   "outputs": [
    {
     "name": "stdout",
     "output_type": "stream",
     "text": [
      "9\n"
     ]
    }
   ],
   "source": [
    "n=3\n",
    "shared = 5//2*3\n",
    "liked = 5//2\n",
    "for i in range(n-1):\n",
    "    liked += shared //2\n",
    "    shared = (shared//2) * 3\n",
    "print(liked)\n"
   ]
  },
  {
   "cell_type": "code",
   "execution_count": 3,
   "metadata": {},
   "outputs": [
    {
     "name": "stdout",
     "output_type": "stream",
     "text": [
      "[28564, 28568, 28569, 28573, 28574, 28575, 28576, 28577, 28578, 28579, 28580, 28582, 28583, 28585, 28587, 28588, 28589, 28590, 28591, 28592, 28593, 28594, 28595, 28596, 28597, 28598, 28599, 28600, 28601, 28602, 28604, 28605, 28606, 28624]\n"
     ]
    }
   ],
   "source": [
    "liste =[ 28569\n",
    ", 28597\n",
    ", 28606\n",
    ", 28602\n",
    ", 28592\n",
    ", 28568\n",
    ", 28573\n",
    ", 28564\n",
    ", 28574\n",
    ", 28580\n",
    ", 28590\n",
    ", 28593\n",
    ", 28587\n",
    ", 28624\n",
    ", 28576\n",
    ", 28577\n",
    ", 28605\n",
    ", 28582\n",
    ", 28598\n",
    ", 28579\n",
    ", 28589\n",
    ", 28578\n",
    ", 28575\n",
    ", 28583\n",
    ", 28604\n",
    ", 28599\n",
    ", 28595\n",
    ", 28588\n",
    ", 28591\n",
    ", 28600\n",
    ", 28601\n",
    ", 28594\n",
    ", 28585\n",
    ", 28596]\n",
    "liste.sort()\n",
    "print(liste)"
   ]
  }
 ],
 "metadata": {
  "kernelspec": {
   "display_name": "Python 3.10.0 64-bit ('3.10.0')",
   "language": "python",
   "name": "python3"
  },
  "language_info": {
   "codemirror_mode": {
    "name": "ipython",
    "version": 3
   },
   "file_extension": ".py",
   "mimetype": "text/x-python",
   "name": "python",
   "nbconvert_exporter": "python",
   "pygments_lexer": "ipython3",
   "version": "3.10.0"
  },
  "orig_nbformat": 4,
  "vscode": {
   "interpreter": {
    "hash": "ef08187334b5036711faa62f830457c82dfb93e1f02e05d079e5da23aa052804"
   }
  }
 },
 "nbformat": 4,
 "nbformat_minor": 2
}
