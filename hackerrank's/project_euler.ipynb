{
 "cells": [
  {
   "cell_type": "markdown",
   "metadata": {},
   "source": [
    "### Project Euler #1: Multiples of 3 and 5"
   ]
  },
  {
   "cell_type": "code",
   "execution_count": null,
   "metadata": {},
   "outputs": [],
   "source": [
    "import sys\n",
    "\n",
    "t = int(input().strip())\n",
    "for a0 in range(t):\n",
    "    n = int(input().strip())\n",
    "    print (sum([i for i in range(1,n) if i % 5== 0 or i%3==0]))"
   ]
  },
  {
   "cell_type": "code",
   "execution_count": 2,
   "metadata": {},
   "outputs": [
    {
     "data": {
      "text/plain": [
       "1333"
      ]
     },
     "execution_count": 2,
     "metadata": {},
     "output_type": "execute_result"
    }
   ],
   "source": [
    "import math\n",
    "def pageCount(n, p):\n",
    "    return min([math.ceil((p-1)/2), math.ceil((n-p)/2)]) if n %2==0 else min([math.floor((p-1)/2), math.floor((n-p)/2)])\n",
    "pageCount(5809,2668)"
   ]
  },
  {
   "cell_type": "code",
   "execution_count": null,
   "metadata": {},
   "outputs": [],
   "source": [
    "def countingValleys(steps, path):\n",
    "    position = 0 \n",
    "    old_pos = 0\n",
    "    traversed_valleys= 0\n",
    "    for i in path:\n",
    "        old_pos=position\n",
    "        if i=='U':\n",
    "            position+=1\n",
    "        else: \n",
    "            position-=1\n",
    "        if position == 0 and old_pos==-1:\n",
    "            traversed_valleys+=1\n",
    "    return traversed_valleys\n",
    "countingValleys(8,\"UDDDUDUU\")"
   ]
  },
  {
   "cell_type": "code",
   "execution_count": 7,
   "metadata": {},
   "outputs": [
    {
     "data": {
      "text/plain": [
       "8"
      ]
     },
     "execution_count": 7,
     "metadata": {},
     "output_type": "execute_result"
    }
   ],
   "source": [
    "def getMoneySpent(keyboards, drives, b):\n",
    "    maxi = -1\n",
    "    taille_drive = len(drives)\n",
    "    taille_keybord = len(keyboards)\n",
    "    for i in range(taille_drive):\n",
    "        for j in range(i,taille_keybord):\n",
    "            purchase = keyboards[i]+drives[j]\n",
    "            if purchase<b and purchase>maxi:\n",
    "                maxi = purchase\n",
    "    return maxi\n",
    "getMoneySpent([3,1],[5,2,8],10)"
   ]
  },
  {
   "cell_type": "code",
   "execution_count": 13,
   "metadata": {},
   "outputs": [
    {
     "data": {
      "text/plain": [
       "2"
      ]
     },
     "execution_count": 13,
     "metadata": {},
     "output_type": "execute_result"
    }
   ],
   "source": [
    "def pickingNumbers(a):\n",
    "    a.sort()\n",
    "    max_taille = 0\n",
    "    counter = 0\n",
    "    pos = 0\n",
    "    for i in range(len(a)-1):\n",
    "        if abs(a[pos]-a[i+1])<=1:\n",
    "            counter+=1\n",
    "        else:\n",
    "            pos = i+1\n",
    "            counter = 0\n",
    "        if counter>max_taille:\n",
    "                max_taille = counter \n",
    "    return max_taille+1\n",
    "pickingNumbers([4 ,6, 5, 3, 3 ,1])"
   ]
  },
  {
   "cell_type": "code",
   "execution_count": 10,
   "metadata": {},
   "outputs": [
    {
     "name": "stdout",
     "output_type": "stream",
     "text": [
      "9\n"
     ]
    }
   ],
   "source": [
    "n=3\n",
    "shared = 5//2*3\n",
    "liked = 5//2\n",
    "for i in range(n-1):\n",
    "    liked += shared //2\n",
    "    shared = (shared//2) * 3\n",
    "print(liked)\n"
   ]
  },
  {
   "cell_type": "code",
   "execution_count": 3,
   "metadata": {},
   "outputs": [
    {
     "name": "stdout",
     "output_type": "stream",
     "text": [
      "x: 0 \n"
     ]
    }
   ],
   "source": [
    "r=0\n",
    "a=40\n",
    "b=120\n",
    "x=a\n",
    "while x < b: \n",
    "    r = r+1/(b-x)\n",
    "    x = x + a\n",
    "\n",
    "print(f\"x: {r} \")"
   ]
  },
  {
   "cell_type": "code",
   "execution_count": 3,
   "metadata": {},
   "outputs": [
    {
     "name": "stdout",
     "output_type": "stream",
     "text": [
      "1\n"
     ]
    }
   ],
   "source": [
    "for i in range(1,1171):\n",
    "    if  1171%i == 0:\n",
    "        print(i)"
   ]
  },
  {
   "cell_type": "code",
   "execution_count": 15,
   "metadata": {},
   "outputs": [
    {
     "name": "stdout",
     "output_type": "stream",
     "text": [
      "[4, 2, 5, 1, 3]\n"
     ]
    }
   ],
   "source": [
    "p = [i-1 for i in [5,2,1,3,4]]\n",
    "n = len(p)\n",
    "a = list(range(n))\n",
    "t=[0]*n\n",
    "s=[0]*n\n",
    "for i in range(n):\n",
    "    t[p[i]]=a[i]\n",
    "for j in range(n):\n",
    "    s[p[j]]=t[j]\n",
    "for k in range(n):\n",
    "    s[k]+=1\n",
    "print(s)"
   ]
  },
  {
   "cell_type": "code",
   "execution_count": 3,
   "metadata": {},
   "outputs": [
    {
     "data": {
      "text/plain": [
       "3"
      ]
     },
     "execution_count": 3,
     "metadata": {},
     "output_type": "execute_result"
    }
   ],
   "source": [
    "n = 124\n",
    "len([i for i in str(n) if n%int(i)==0])"
   ]
  },
  {
   "cell_type": "code",
   "execution_count": 8,
   "metadata": {},
   "outputs": [
    {
     "name": "stdout",
     "output_type": "stream",
     "text": [
      "1\n"
     ]
    },
    {
     "data": {
      "text/plain": [
       "'Yes'"
      ]
     },
     "execution_count": 8,
     "metadata": {},
     "output_type": "execute_result"
    }
   ],
   "source": [
    "def appendAndDelete(s, t, k):\n",
    "    len_t = len(t)\n",
    "    len_s = len(s)\n",
    "    common_letter = 0\n",
    "    move = 0\n",
    "    min_tab = min(len_s,len_t)\n",
    "    #common_letter = len({i for i in range(min_tab) if s[i]==t[i]})\n",
    "    for i in range(min_tab):\n",
    "        if s[i]!=t[i]:\n",
    "            break \n",
    "        else : \n",
    "            common_letter+=1\n",
    "        \n",
    "    if len_s>= len_t:\n",
    "        move = len_s+len_t-2*common_letter\n",
    "    else: \n",
    "        move = len_t - common_letter    \n",
    "    print(move)\n",
    "    return \"Yes\" if k>move  else \"No\"\n",
    "\n",
    "s=\"y\"\n",
    "t=\"yu\"\n",
    "k=6\n",
    "appendAndDelete(s,t,k)"
   ]
  },
  {
   "cell_type": "code",
   "execution_count": 35,
   "metadata": {},
   "outputs": [
    {
     "data": {
      "text/plain": [
       "3"
      ]
     },
     "execution_count": 35,
     "metadata": {},
     "output_type": "execute_result"
    }
   ],
   "source": [
    "import math\n",
    "def squares(a, b):\n",
    "    return len({i  for i in range(a, b+1) if i == math.isqrt(i)**2})\n",
    "squares(2 ,20)"
   ]
  },
  {
   "cell_type": "code",
   "execution_count": 38,
   "metadata": {},
   "outputs": [
    {
     "data": {
      "text/plain": [
       "3"
      ]
     },
     "execution_count": 38,
     "metadata": {},
     "output_type": "execute_result"
    }
   ],
   "source": [
    "def squares(a, b):\n",
    "    A = int(a**0.5)\n",
    "    B = int(b**0.5)\n",
    "    return B-A+1 if a == A**2 else B-A\n",
    "    \n",
    "squares(24 ,49)"
   ]
  },
  {
   "cell_type": "code",
   "execution_count": 21,
   "metadata": {},
   "outputs": [
    {
     "name": "stdout",
     "output_type": "stream",
     "text": [
      "7\n"
     ]
    }
   ],
   "source": [
    "s = \"aba\"\n",
    "n= 10\n",
    "a_per_bloc = s.count('a')\n",
    "blocs = n//len(s)\n",
    "if n%len(s)==0:\n",
    "    print( blocs*a_per_bloc)\n",
    "else: \n",
    "    print(blocs*a_per_bloc+s[:n%len(s)].count('a'))\n"
   ]
  },
  {
   "cell_type": "code",
   "execution_count": 22,
   "metadata": {},
   "outputs": [
    {
     "data": {
      "text/plain": [
       "'abaabaabaa'"
      ]
     },
     "execution_count": 22,
     "metadata": {},
     "output_type": "execute_result"
    }
   ],
   "source": [
    "(\"aba\"*4)[:10]"
   ]
  },
  {
   "cell_type": "code",
   "execution_count": 7,
   "metadata": {},
   "outputs": [
    {
     "data": {
      "text/plain": [
       "153"
      ]
     },
     "execution_count": 7,
     "metadata": {},
     "output_type": "execute_result"
    }
   ],
   "source": [
    "n,c,m = 78711, 514, 63338\n",
    "def chocolateFeast(n, c, m):\n",
    "    number_choco = n//c\n",
    "    n = number_choco\n",
    "    while n>=m:\n",
    "        wrapper = n//m\n",
    "        number_choco += wrapper+n%m\n",
    "        n = wrapper\n",
    "    return number_choco\n",
    "chocolateFeast(n,c,m)"
   ]
  },
  {
   "cell_type": "code",
   "execution_count": 12,
   "metadata": {},
   "outputs": [
    {
     "name": "stdout",
     "output_type": "stream",
     "text": [
      "text book\n",
      "1\n"
     ]
    },
    {
     "data": {
      "text/plain": [
       "True"
      ]
     },
     "execution_count": 12,
     "metadata": {},
     "output_type": "execute_result"
    }
   ],
   "source": [
    "def halvesAreAlike( s: str) -> bool:\n",
    "        halfLength = len(s)//2\n",
    "        a,b = s[:halfLength],s[halfLength:]\n",
    "        print(a,b)\n",
    "        vowels = ('a', 'e', 'i', 'o', 'u', 'A', 'E', 'I', 'O', 'U')\n",
    "        a_vowels = len({i for i in a if i in vowels})\n",
    "        b_vowels = len({i for i in b if i in vowels})\n",
    "        print(b_vowels)\n",
    "        return a_vowels == b_vowels\n",
    "halvesAreAlike(\"textbook\")"
   ]
  },
  {
   "cell_type": "code",
   "execution_count": 4,
   "metadata": {},
   "outputs": [
    {
     "data": {
      "text/plain": [
       "[0, 1]"
      ]
     },
     "execution_count": 4,
     "metadata": {},
     "output_type": "execute_result"
    }
   ],
   "source": [
    "liste = [2,7,11,15]\n",
    "def twoSum( nums, target) :\n",
    "    for i in range(len(liste)): \n",
    "        for j in range(i+1,len(liste)):\n",
    "            if nums[i]+nums[j] == target:\n",
    "                return [i,j]\n",
    "twoSum(liste, 9)"
   ]
  }
 ],
 "metadata": {
  "kernelspec": {
   "display_name": "Python 3.10.0 64-bit ('3.10.0')",
   "language": "python",
   "name": "python3"
  },
  "language_info": {
   "codemirror_mode": {
    "name": "ipython",
    "version": 3
   },
   "file_extension": ".py",
   "mimetype": "text/x-python",
   "name": "python",
   "nbconvert_exporter": "python",
   "pygments_lexer": "ipython3",
   "version": "3.10.0"
  },
  "orig_nbformat": 4,
  "vscode": {
   "interpreter": {
    "hash": "ef08187334b5036711faa62f830457c82dfb93e1f02e05d079e5da23aa052804"
   }
  }
 },
 "nbformat": 4,
 "nbformat_minor": 2
}
