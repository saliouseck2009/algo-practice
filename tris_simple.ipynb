{
 "cells": [
  {
   "cell_type": "markdown",
   "metadata": {},
   "source": [
    "### Déchets polluants"
   ]
  },
  {
   "cell_type": "code",
   "execution_count": 8,
   "metadata": {},
   "outputs": [
    {
     "name": "stdout",
     "output_type": "stream",
     "text": [
      "17 10 3 3 "
     ]
    }
   ],
   "source": [
    "N,M = map(int,input().split())\n",
    "#values = list(map(int,input().split()))\n",
    "max = 0\n",
    "values = [3, 2, 17, 0, 10, 3]\n",
    "for i in range(M):\n",
    "    max=0\n",
    "    for j in range(len(values)):\n",
    "        if values[j]>max: \n",
    "            max=values[j]\n",
    "    print(max,end=' ')\n",
    "    values.remove(max)\n",
    "    \n"
   ]
  },
  {
   "cell_type": "code",
   "execution_count": 9,
   "metadata": {},
   "outputs": [
    {
     "name": "stdout",
     "output_type": "stream",
     "text": [
      "17 10 3 3 "
     ]
    }
   ],
   "source": [
    "N,M = map(int,input().split())\n",
    "values = list(map(int,input().split()))\n",
    "for i in range(M):\n",
    "    max=0\n",
    "    for j in range(len(values)):\n",
    "        if values[j]>max: \n",
    "            max=values[j]\n",
    "    print(max,end=' ')\n",
    "    values.remove(max)"
   ]
  },
  {
   "cell_type": "markdown",
   "metadata": {},
   "source": [
    "### préparation du stock"
   ]
  },
  {
   "cell_type": "code",
   "execution_count": 19,
   "metadata": {},
   "outputs": [
    {
     "name": "stdout",
     "output_type": "stream",
     "text": [
      "2 0 7 5\n",
      "1 2 2 3 4 6 6 7 8\n"
     ]
    }
   ],
   "source": [
    "N,M = map(int,input().split())\n",
    "stock = list(map(int,input().split()))\n",
    "to_stock = list(map(int,input().split()))\n",
    "indices = []\n",
    "for i in range(M):\n",
    "    isFound=False\n",
    "    for j in range(len(stock)):\n",
    "        if to_stock[i] <= stock[j]:\n",
    "            stock.insert(j,to_stock[i])\n",
    "            indices.append(j)\n",
    "            isFound=True\n",
    "            break\n",
    "    if not isFound:\n",
    "        stock.append(to_stock[i])\n",
    "        indices.append( len(stock)-1)\n",
    "print(\" \".join([str(i) for i in indices]))   \n",
    "print(\" \".join([str(i) for i in stock]))       \n",
    "\n",
    "\n",
    "    "
   ]
  },
  {
   "cell_type": "markdown",
   "metadata": {},
   "source": [
    "### Course automobile"
   ]
  },
  {
   "cell_type": "code",
   "execution_count": 9,
   "metadata": {},
   "outputs": [
    {
     "name": "stdout",
     "output_type": "stream",
     "text": [
      "4\n",
      "2 1\n",
      "4 1\n",
      "4 2\n",
      "4 3\n"
     ]
    }
   ],
   "source": [
    "nbAutomobiles = int(input())\n",
    "croisement=0\n",
    "num = list(map(int,input().split()))\n",
    "croix = list()\n",
    "for i in range(nbAutomobiles):\n",
    "    min = i\n",
    "    for j in range(i+1,nbAutomobiles):\n",
    "        if num[j]<num[min]:\n",
    "            min = j\n",
    "    \n",
    "    while min != i:\n",
    "        croisement+=1\n",
    "        num[min],num[min-1]=num[min-1],num[min]\n",
    "        croix.append(str(num[min])+\" \"+str(num[min-1]))\n",
    "        min-=1\n",
    "print(croisement)\n",
    "for i in croix: \n",
    "    print(i)"
   ]
  },
  {
   "cell_type": "markdown",
   "metadata": {},
   "source": [
    "### Trie des données"
   ]
  },
  {
   "cell_type": "code",
   "execution_count": 13,
   "metadata": {},
   "outputs": [
    {
     "name": "stdout",
     "output_type": "stream",
     "text": [
      "[0, 2, 3, 3, 10, 17]\n"
     ]
    }
   ],
   "source": [
    "n = int(input())\n",
    "num = list(map(int,input().split()))\n",
    "for i in range(n-1):\n",
    "    min = i\n",
    "    for j in range(i+1,n):\n",
    "        if num[j]<num[min]:\n",
    "            min = j\n",
    "    num[min],num[i]=num[i],num[min]\n",
    "print(\" \".join([str(i) for i in num]))  "
   ]
  }
 ],
 "metadata": {
  "kernelspec": {
   "display_name": "Python 3.10.0 64-bit ('3.10.0')",
   "language": "python",
   "name": "python3"
  },
  "language_info": {
   "codemirror_mode": {
    "name": "ipython",
    "version": 3
   },
   "file_extension": ".py",
   "mimetype": "text/x-python",
   "name": "python",
   "nbconvert_exporter": "python",
   "pygments_lexer": "ipython3",
   "version": "3.10.0"
  },
  "orig_nbformat": 4,
  "vscode": {
   "interpreter": {
    "hash": "ef08187334b5036711faa62f830457c82dfb93e1f02e05d079e5da23aa052804"
   }
  }
 },
 "nbformat": 4,
 "nbformat_minor": 2
}
