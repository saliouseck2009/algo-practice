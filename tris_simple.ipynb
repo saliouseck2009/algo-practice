{
 "cells": [
  {
   "cell_type": "markdown",
   "metadata": {},
   "source": [
    "### Déchets polluants"
   ]
  },
  {
   "cell_type": "code",
   "execution_count": 9,
   "metadata": {},
   "outputs": [
    {
     "name": "stdout",
     "output_type": "stream",
     "text": [
      "17 10 3 3 "
     ]
    }
   ],
   "source": [
    "N,M = map(int,input().split())\n",
    "values = list(map(int,input().split()))\n",
    "for i in range(M):\n",
    "    max=0\n",
    "    for j in range(len(values)):\n",
    "        if values[j]>max: \n",
    "            max=values[j]\n",
    "    print(max,end=' ')\n",
    "    values.remove(max)"
   ]
  },
  {
   "cell_type": "markdown",
   "metadata": {},
   "source": [
    "### préparation du stock"
   ]
  },
  {
   "cell_type": "code",
   "execution_count": 19,
   "metadata": {},
   "outputs": [
    {
     "name": "stdout",
     "output_type": "stream",
     "text": [
      "2 0 7 5\n",
      "1 2 2 3 4 6 6 7 8\n"
     ]
    }
   ],
   "source": [
    "N,M = map(int,input().split())\n",
    "stock = list(map(int,input().split()))\n",
    "to_stock = list(map(int,input().split()))\n",
    "indices = []\n",
    "for i in range(M):\n",
    "    isFound=False\n",
    "    for j in range(len(stock)):\n",
    "        if to_stock[i] <= stock[j]:\n",
    "            stock.insert(j,to_stock[i])\n",
    "            indices.append(j)\n",
    "            isFound=True\n",
    "            break\n",
    "    if not isFound:\n",
    "        stock.append(to_stock[i])\n",
    "        indices.append( len(stock)-1)\n",
    "print(\" \".join([str(i) for i in indices]))   \n",
    "print(\" \".join([str(i) for i in stock]))       \n",
    "\n",
    "\n",
    "    "
   ]
  },
  {
   "cell_type": "markdown",
   "metadata": {},
   "source": [
    "### Course automobile"
   ]
  },
  {
   "cell_type": "code",
   "execution_count": 9,
   "metadata": {},
   "outputs": [
    {
     "name": "stdout",
     "output_type": "stream",
     "text": [
      "4\n",
      "2 1\n",
      "4 1\n",
      "4 2\n",
      "4 3\n"
     ]
    }
   ],
   "source": [
    "nbAutomobiles = int(input())\n",
    "croisement=0\n",
    "num = list(map(int,input().split()))\n",
    "croix = list()\n",
    "for i in range(nbAutomobiles):\n",
    "    min = i\n",
    "    for j in range(i+1,nbAutomobiles):\n",
    "        if num[j]<num[min]:\n",
    "            min = j\n",
    "    \n",
    "    while min != i:\n",
    "        croisement+=1\n",
    "        num[min],num[min-1]=num[min-1],num[min]\n",
    "        croix.append(str(num[min])+\" \"+str(num[min-1]))\n",
    "        min-=1\n",
    "print(croisement)\n",
    "for i in croix: \n",
    "    print(i)"
   ]
  },
  {
   "cell_type": "markdown",
   "metadata": {},
   "source": [
    "### Trie des données"
   ]
  },
  {
   "cell_type": "code",
   "execution_count": 13,
   "metadata": {},
   "outputs": [
    {
     "name": "stdout",
     "output_type": "stream",
     "text": [
      "[0, 2, 3, 3, 10, 17]\n"
     ]
    }
   ],
   "source": [
    "n = int(input())\n",
    "num = list(map(int,input().split()))\n",
    "for i in range(n-1):\n",
    "    min = i\n",
    "    for j in range(i+1,n):\n",
    "        if num[j]<num[min]:\n",
    "            min = j\n",
    "    num[min],num[i]=num[i],num[min]\n",
    "print(\" \".join([str(i) for i in num]))  "
   ]
  },
  {
   "cell_type": "markdown",
   "metadata": {},
   "source": [
    "### Trie des données bibliothèque "
   ]
  },
  {
   "cell_type": "code",
   "execution_count": 14,
   "metadata": {},
   "outputs": [
    {
     "name": "stdout",
     "output_type": "stream",
     "text": [
      "-127 -8 3 7 18 25\n"
     ]
    }
   ],
   "source": [
    "n = int(input())\n",
    "num = list(map(int,input().split()))\n",
    "num.sort()\n",
    "print(\" \".join([str(i) for i in num]))  "
   ]
  },
  {
   "cell_type": "markdown",
   "metadata": {},
   "source": [
    "### Identifier les bacs"
   ]
  },
  {
   "cell_type": "code",
   "execution_count": 18,
   "metadata": {},
   "outputs": [
    {
     "name": "stdout",
     "output_type": "stream",
     "text": [
      "1 8\n",
      "4 8\n",
      "4 8\n",
      "9 8\n",
      "2 15\n"
     ]
    }
   ],
   "source": [
    "class Bac:\n",
    "    def __init__(self,idBac,nivPollution) -> None:\n",
    "        self.idBac = idBac \n",
    "        self.nivPollution = nivPollution\n",
    "    def __str__(self) -> str:\n",
    "        return str(self.idBac) + \" \" +str(self.nivPollution)\n",
    "    def __lt__(self, obj):\n",
    "        return ((self.nivPollution) <= (obj.nivPollution))\n",
    "  \n",
    "    def __gt__(self, obj):\n",
    "        return ((self.nivPollution) >= (obj.nivPollution))\n",
    "\n",
    "nbBacs = int(input())\n",
    "bacs =[]\n",
    "for _ in range(nbBacs):\n",
    "    bac = tuple(map(int, input().split()))\n",
    "    bacs.append(Bac(bac[0],bac[1]))\n",
    "sortedbacs = sorted(bacs,key=lambda x: (x.nivPollution,x.idBac))\n",
    "for bac in sortedbacs:\n",
    "    print(bac)"
   ]
  },
  {
   "cell_type": "code",
   "execution_count": 16,
   "metadata": {},
   "outputs": [
    {
     "ename": "IndexError",
     "evalue": "tuple index out of range",
     "output_type": "error",
     "traceback": [
      "\u001b[1;31m---------------------------------------------------------------------------\u001b[0m",
      "\u001b[1;31mIndexError\u001b[0m                                Traceback (most recent call last)",
      "\u001b[1;32mc:\\Users\\saliou.seck\\Documents\\algo\\algo-practice\\tris_simple.ipynb Cellule 13\u001b[0m in \u001b[0;36m<cell line: 15>\u001b[1;34m()\u001b[0m\n\u001b[0;32m     <a href='vscode-notebook-cell:/c%3A/Users/saliou.seck/Documents/algo/algo-practice/tris_simple.ipynb#X15sZmlsZQ%3D%3D?line=14'>15</a>\u001b[0m \u001b[39mfor\u001b[39;00m _ \u001b[39min\u001b[39;00m \u001b[39mrange\u001b[39m(nbBacs):\n\u001b[0;32m     <a href='vscode-notebook-cell:/c%3A/Users/saliou.seck/Documents/algo/algo-practice/tris_simple.ipynb#X15sZmlsZQ%3D%3D?line=15'>16</a>\u001b[0m     bac \u001b[39m=\u001b[39m \u001b[39mtuple\u001b[39m(\u001b[39mmap\u001b[39m(\u001b[39mint\u001b[39m, \u001b[39minput\u001b[39m()\u001b[39m.\u001b[39msplit()))\n\u001b[1;32m---> <a href='vscode-notebook-cell:/c%3A/Users/saliou.seck/Documents/algo/algo-practice/tris_simple.ipynb#X15sZmlsZQ%3D%3D?line=16'>17</a>\u001b[0m     bacs\u001b[39m.\u001b[39mappend(Bac(bac[\u001b[39m0\u001b[39m],bac[\u001b[39m1\u001b[39;49m]))\n\u001b[0;32m     <a href='vscode-notebook-cell:/c%3A/Users/saliou.seck/Documents/algo/algo-practice/tris_simple.ipynb#X15sZmlsZQ%3D%3D?line=17'>18</a>\u001b[0m \u001b[39mprint\u001b[39m(\u001b[39mlen\u001b[39m(bacs))\n\u001b[0;32m     <a href='vscode-notebook-cell:/c%3A/Users/saliou.seck/Documents/algo/algo-practice/tris_simple.ipynb#X15sZmlsZQ%3D%3D?line=18'>19</a>\u001b[0m \u001b[39mprint\u001b[39m(nbBacs)\n",
      "\u001b[1;31mIndexError\u001b[0m: tuple index out of range"
     ]
    }
   ],
   "source": [
    "### Solution from the website\n",
    "import sys\n",
    "def main():\n",
    "   nbBacs = int(input())\n",
    "   bacs = [list(map(int, sys.stdin.readline().split())) for _ in range(nbBacs)]\n",
    "   bacs.sort(key = lambda bac: (bac[1], bac[0]))\n",
    "   for bac in bacs:\n",
    "      print(*bac)\n",
    "main()"
   ]
  },
  {
   "cell_type": "markdown",
   "metadata": {},
   "source": [
    "### Matière recyclable"
   ]
  },
  {
   "cell_type": "code",
   "execution_count": 19,
   "metadata": {},
   "outputs": [
    {
     "name": "stdout",
     "output_type": "stream",
     "text": [
      "['saliou', 'seck']\n"
     ]
    }
   ],
   "source": [
    "N = int(input())\n",
    "noms = [input() for _ in range(N)]\n",
    "noms.sort()\n",
    "for nom in noms:\n",
    "    print(nom)"
   ]
  }
 ],
 "metadata": {
  "kernelspec": {
   "display_name": "Python 3.10.0 64-bit ('3.10.0')",
   "language": "python",
   "name": "python3"
  },
  "language_info": {
   "codemirror_mode": {
    "name": "ipython",
    "version": 3
   },
   "file_extension": ".py",
   "mimetype": "text/x-python",
   "name": "python",
   "nbconvert_exporter": "python",
   "pygments_lexer": "ipython3",
   "version": "3.10.0"
  },
  "orig_nbformat": 4,
  "vscode": {
   "interpreter": {
    "hash": "ef08187334b5036711faa62f830457c82dfb93e1f02e05d079e5da23aa052804"
   }
  }
 },
 "nbformat": 4,
 "nbformat_minor": 2
}
