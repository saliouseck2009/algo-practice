{
 "cells": [
  {
   "cell_type": "markdown",
   "metadata": {},
   "source": [
    "### Déchets polluants"
   ]
  },
  {
   "cell_type": "code",
   "execution_count": 8,
   "metadata": {},
   "outputs": [
    {
     "name": "stdout",
     "output_type": "stream",
     "text": [
      "17 10 3 3 "
     ]
    }
   ],
   "source": [
    "N,M = map(int,input().split())\n",
    "#values = list(map(int,input().split()))\n",
    "max = 0\n",
    "values = [3, 2, 17, 0, 10, 3]\n",
    "for i in range(M):\n",
    "    max=0\n",
    "    for j in range(len(values)):\n",
    "        if values[j]>max: \n",
    "            max=values[j]\n",
    "    print(max,end=' ')\n",
    "    values.remove(max)\n",
    "    \n"
   ]
  },
  {
   "cell_type": "code",
   "execution_count": 9,
   "metadata": {},
   "outputs": [
    {
     "name": "stdout",
     "output_type": "stream",
     "text": [
      "17 10 3 3 "
     ]
    }
   ],
   "source": [
    "N,M = map(int,input().split())\n",
    "values = list(map(int,input().split()))\n",
    "for i in range(M):\n",
    "    max=0\n",
    "    for j in range(len(values)):\n",
    "        if values[j]>max: \n",
    "            max=values[j]\n",
    "    print(max,end=' ')\n",
    "    values.remove(max)"
   ]
  }
 ],
 "metadata": {
  "kernelspec": {
   "display_name": "Python 3.10.0 64-bit ('3.10.0')",
   "language": "python",
   "name": "python3"
  },
  "language_info": {
   "codemirror_mode": {
    "name": "ipython",
    "version": 3
   },
   "file_extension": ".py",
   "mimetype": "text/x-python",
   "name": "python",
   "nbconvert_exporter": "python",
   "pygments_lexer": "ipython3",
   "version": "3.10.0"
  },
  "orig_nbformat": 4,
  "vscode": {
   "interpreter": {
    "hash": "ef08187334b5036711faa62f830457c82dfb93e1f02e05d079e5da23aa052804"
   }
  }
 },
 "nbformat": 4,
 "nbformat_minor": 2
}
