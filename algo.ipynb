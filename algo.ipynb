{
 "cells": [
  {
   "cell_type": "markdown",
   "metadata": {},
   "source": [
    "## Nombre D'Amour"
   ]
  },
  {
   "cell_type": "code",
   "execution_count": 5,
   "metadata": {},
   "outputs": [
    {
     "name": "stdout",
     "output_type": "stream",
     "text": [
      "9 9\n"
     ]
    }
   ],
   "source": [
    "def sum_num_letter(n: int):\n",
    "    if(n<10):\n",
    "        return str(n)\n",
    "    else:\n",
    "        return sum_num_letter(sum([int(i) for i in str(n)]))\n",
    "\n",
    "def getNameSumLetter(nom:str):\n",
    "    return sum([ord(i)- 65 for i in nom])\n",
    "nom = input()\n",
    "nom1,nom2 = nom.split()[0],nom.split()[1]\n",
    "\n",
    "somme1 = getNameSumLetter(nom1)\n",
    "somme2 = getNameSumLetter(nom2)\n",
    "print(sum_num_letter(somme1)+ \" \"+sum_num_letter(somme2))"
   ]
  },
  {
   "cell_type": "markdown",
   "metadata": {},
   "source": [
    "## Lettre la plus fréquente"
   ]
  },
  {
   "cell_type": "code",
   "execution_count": 1,
   "metadata": {},
   "outputs": [
    {
     "name": "stdout",
     "output_type": "stream",
     "text": [
      "S"
     ]
    },
    {
     "data": {
      "text/plain": [
       "1"
      ]
     },
     "execution_count": 1,
     "metadata": {},
     "output_type": "execute_result"
    }
   ],
   "source": [
    "import sys\n",
    "\n",
    "#text = \"\".join(sys.stdin.readline().split()).upper()\n",
    "text = \"\".join(input().split()).upper()\n",
    "\n",
    "most_common_letter = text[0]\n",
    "max_occ = 0\n",
    "tab_letter_occ = [0]*127\n",
    "max_letter_occ: str\n",
    "for char in text:\n",
    "    tab_letter_occ[ord(char)]+=1\n",
    "    if tab_letter_occ[ord(char)] > max_occ:\n",
    "        max_occ= tab_letter_occ[ord(char)]\n",
    "        most_common_letter = char\n",
    "    \n",
    "sys.stdout.write(most_common_letter)\n",
    "\n"
   ]
  },
  {
   "cell_type": "markdown",
   "metadata": {},
   "source": [
    "### Titre livre Palindrome"
   ]
  },
  {
   "cell_type": "code",
   "execution_count": 4,
   "metadata": {},
   "outputs": [
    {
     "name": "stdout",
     "output_type": "stream",
     "text": [
      "LIEURARUEIL\n",
      "LECHEVALIERDELIBERE\n",
      "UNROCSIBISCORNU\n",
      "['Lieur a Rueil', 'Un roc si biscornu']\n"
     ]
    }
   ],
   "source": [
    "nbLivres = int(input())\n",
    "listeLivrePalindrome=[]\n",
    "for numtitre in range(nbLivres):\n",
    "    titre = input()\n",
    "    titreWithoutEspace= \"\".join(titre.split()).upper() \n",
    "    if (titreWithoutEspace == titreWithoutEspace[::-1]):\n",
    "        listeLivrePalindrome.append(titre)\n",
    "for livre in listeLivrePalindrome:\n",
    "    print(livre)"
   ]
  },
  {
   "cell_type": "markdown",
   "metadata": {},
   "source": [
    "### Validité des noms de variables "
   ]
  },
  {
   "cell_type": "code",
   "execution_count": 15,
   "metadata": {},
   "outputs": [
    {
     "name": "stdout",
     "output_type": "stream",
     "text": [
      "NO\n",
      "YES\n",
      "YES\n",
      "YES\n",
      "NO\n"
     ]
    }
   ],
   "source": [
    "nbNoms = int(input())\n",
    "for i in range(nbNoms):\n",
    "    tour=\"YES\"\n",
    "    nom = input()\n",
    "    if nom[0]==\"_\" or nom[0].isalpha():\n",
    "        for letter in nom: \n",
    "            if letter.isalnum() == False and letter!=\"_\":\n",
    "                tour =\"NO\"\n",
    "    else: \n",
    "        tour=\"NO\"\n",
    "    print(tour)\n"
   ]
  },
  {
   "cell_type": "code",
   "execution_count": 6,
   "metadata": {},
   "outputs": [
    {
     "name": "stdout",
     "output_type": "stream",
     "text": [
      "YES\n",
      "NO\n",
      "YES\n",
      "NO\n",
      "NO\n"
     ]
    }
   ],
   "source": [
    "nb_variables=int(input())\n",
    "for _ in range(nb_variables):\n",
    "   nom_variable=input()\n",
    "   if(not (nom_variable[0]==\"_\" or nom_variable[0].isalpha()) ):\n",
    "      print(\"NO\")\n",
    "   else:\n",
    "    if( nom_variable[1:].isalnum() or nom_variable[1:].replace(\"_\",\"\").isalnum()):\n",
    "        print(\"YES\")\n",
    "        \n",
    "    else: \n",
    "        print(\"NO\")\n"
   ]
  },
  {
   "cell_type": "markdown",
   "metadata": {},
   "source": [
    "### Fréquences d’apparition"
   ]
  },
  {
   "cell_type": "code",
   "execution_count": 7,
   "metadata": {},
   "outputs": [
    {
     "name": "stdout",
     "output_type": "stream",
     "text": [
      "0.109375\n",
      "0.000000\n",
      "0.015625\n",
      "0.046875\n",
      "0.203125\n",
      "0.031250\n",
      "0.031250\n",
      "0.000000\n",
      "0.046875\n",
      "0.000000\n",
      "0.000000\n",
      "0.093750\n",
      "0.031250\n",
      "0.125000\n",
      "0.046875\n",
      "0.015625\n",
      "0.000000\n",
      "0.046875\n",
      "0.078125\n",
      "0.015625\n",
      "0.062500\n",
      "0.000000\n",
      "0.000000\n",
      "0.000000\n",
      "0.000000\n",
      "0.000000\n"
     ]
    }
   ],
   "source": [
    "import sys\n",
    "\n",
    "#text = \"\".join(sys.stdin.readline().split()).upper()\n",
    "text = \"\".join(input().split()).upper()\n",
    "most_common_letter = text[0]\n",
    "max_occ = 0\n",
    "tab_letter_occ = [0]*26\n",
    "number_of_letter=0\n",
    "for char in text:\n",
    "    if char.isalpha():\n",
    "        number_of_letter+=1\n",
    "        tab_letter_occ[ord(char)-ord(\"A\")]+=1\n",
    "for i in range(len(tab_letter_occ)):\n",
    "    print(\"{0:.6f}\".format(tab_letter_occ[i]/number_of_letter) )\n",
    "#sys.stdout.write(most_common_letter)\n",
    "\n"
   ]
  },
  {
   "cell_type": "markdown",
   "metadata": {},
   "source": [
    "### Inversion d'une liste de livres"
   ]
  },
  {
   "cell_type": "code",
   "execution_count": null,
   "metadata": {},
   "outputs": [],
   "source": [
    "nbLivres = int(input())\n",
    "livres = [\"\"]*nbLivres\n",
    "for i in range(nbLivres):\n",
    "    livre = input()\n",
    "    livres[nbLivres-1-i]=livre \n",
    "for livre in livres:\n",
    "    print(livre)"
   ]
  },
  {
   "cell_type": "markdown",
   "metadata": {},
   "source": [
    "### Trier des livres"
   ]
  },
  {
   "cell_type": "code",
   "execution_count": 14,
   "metadata": {},
   "outputs": [
    {
     "name": "stdout",
     "output_type": "stream",
     "text": [
      "\n",
      "dfd\n"
     ]
    }
   ],
   "source": [
    "nbLivres = int(input())\n",
    "livres = [\"\"]*nbLivres\n",
    "for i in range(nbLivres):\n",
    "    titre = input()\n",
    "    livres.append(titre)\n",
    "livres.sort()\n",
    "for livre in livres :\n",
    "    print (livre)"
   ]
  },
  {
   "cell_type": "markdown",
   "metadata": {},
   "source": [
    "### Lire ou ne pas lire, telle est (à nouveau) la question\n",
    "Un des employés de la bibliothèque avait mis au point son propre algorithme de sélection des livres à lire, basé sur la longueur des titres des livres. Il s’en est lassé et se base maintenant sur l'ordre alphabétique des titres des livres.\n",
    "\n",
    "Sur une étagère sont alignés tous les livres qui l’intéressent. Chaque mois, cette personne prend le premier livre de l’étagère, puis le second et ainsi de suite jusqu’à la fin. Seulement, elle ne lira un livre que si son titre est situé, selon l’ordre alphabétique, après chacun des livres qu’elle a lus pendant le mois. Si ce n’est pas le cas, elle enlève le livre de l’étagère, sans le lire.\n",
    "\n",
    "Étant donnée la liste de titres de livres possibles pour le mois suivant, donnés dans l’ordre où ils apparaissent dans l’étagère, vous devez déterminer lesquels elle va lire.\n",
    "\n",
    "Limites de temps et de mémoire (Python)\n",
    "Temps : 0,1 s sur une machine à 1 GHz.\n",
    "Mémoire : 8 000 ko.\n",
    "Contraintes\n",
    "Chaque titre de livre contiendra au plus 100 caractères.\n",
    "\n",
    "Entrée\n",
    "Sur la première ligne, un entier nbLivres, le nombre total de livres.\n",
    "\n",
    "Les nbLivres lignes suivantes contiennent chacune un titre de livre.\n",
    "\n",
    "Les titres ne contiennent que des lettres majuscules ou des espaces.\n",
    "\n",
    "Sortie\n",
    "La liste des titres respectant la règle donnée dans l’énoncé."
   ]
  },
  {
   "cell_type": "code",
   "execution_count": 1,
   "metadata": {},
   "outputs": [
    {
     "name": "stdout",
     "output_type": "stream",
     "text": [
      "\n",
      "\n",
      "fdkfls\n",
      "fdslfs\n"
     ]
    }
   ],
   "source": [
    "nbLivres = int(input())\n",
    "livres = [\"\"]*nbLivres\n",
    "lastbook =\"\"\n",
    "\n",
    "for  i in range(nbLivres):\n",
    "    livre = input()\n",
    "    if livre>lastbook:\n",
    "       lastbook=livre\n",
    "       print(livre)"
   ]
  },
  {
   "cell_type": "markdown",
   "metadata": {},
   "source": [
    "### Banquet municipal"
   ]
  },
  {
   "cell_type": "code",
   "execution_count": null,
   "metadata": {},
   "outputs": [],
   "source": [
    "total_position = int(input())\n",
    "number_chgment = int(input())\n",
    "positions = list()\n",
    "\n",
    "for position in range(total_position):\n",
    "    positions.append(int(input()))\n",
    "for chgmt in range(number_chgment):\n",
    "    position1 = int(input())\n",
    "    position2 = int(input())\n",
    "    temp = positions[position1]\n",
    "    positions[position1]=positions[position2]\n",
    "    positions[position2]=temp\n",
    "for position in positions:\n",
    "    print(position)"
   ]
  },
  {
   "cell_type": "markdown",
   "metadata": {},
   "source": [
    "### Inversion de dictionnaire"
   ]
  },
  {
   "cell_type": "code",
   "execution_count": 2,
   "metadata": {},
   "outputs": [
    {
     "name": "stdout",
     "output_type": "stream",
     "text": [
      "algo\n",
      "place\n"
     ]
    }
   ],
   "source": [
    "nbMots = int(input())\n",
    "livres = []\n",
    "for i in range(nbMots): \n",
    "    couple = \" \".join(list(reversed(input().split())))\n",
    "    livres.append(couple)\n",
    "livres.sort()\n",
    "for livre in livres:\n",
    "    print(livre)\n",
    "    "
   ]
  },
  {
   "cell_type": "markdown",
   "metadata": {},
   "source": [
    "### Fréquentation de la bibliothèque"
   ]
  },
  {
   "cell_type": "code",
   "execution_count": 3,
   "metadata": {},
   "outputs": [
    {
     "name": "stdout",
     "output_type": "stream",
     "text": [
      "55\n"
     ]
    }
   ],
   "source": [
    "listeNumber = []\n",
    "first_line = input().split()\n",
    "number_input = int(first_line[0])\n",
    "listeNumber.extend(first_line)\n",
    "\n",
    "for i in range(number_input):\n",
    "    try:\n",
    "      listeNumber.extend(input().split())\n",
    "    except:\n",
    "        pass\n",
    "somme = sum([int(n) for n in listeNumber])\n",
    "print(somme)"
   ]
  },
  {
   "cell_type": "markdown",
   "metadata": {},
   "source": [
    "### Conférence et tics de langage"
   ]
  },
  {
   "cell_type": "code",
   "execution_count": null,
   "metadata": {},
   "outputs": [],
   "source": [
    "mot_a_conter = input().upper()\n",
    "text= input().upper().split()\n",
    "counter = 0\n",
    "for mot in text:\n",
    "    if mot == mot_a_conter:\n",
    "        counter+=1\n",
    "print(counter)\n"
   ]
  },
  {
   "cell_type": "markdown",
   "metadata": {},
   "source": [
    "### Acronymes"
   ]
  },
  {
   "cell_type": "code",
   "execution_count": 2,
   "metadata": {},
   "outputs": [
    {
     "name": "stdout",
     "output_type": "stream",
     "text": [
      "Alice Ali\n"
     ]
    }
   ],
   "source": [
    "acronyme = input()\n",
    "nbLivres = int(input())\n",
    "for counter in range(nbLivres):\n",
    "    titre = input().split()\n",
    "    if len(titre)==len(acronyme):\n",
    "        a_trouver= True\n",
    "        for i in range(len(acronyme)):\n",
    "            if titre[i][0].upper() != acronyme[i][0]:\n",
    "                a_trouver=False \n",
    "        if a_trouver:\n",
    "            print(\" \".join([t.capitalize() for t in titre ]))\n",
    "            "
   ]
  },
  {
   "cell_type": "markdown",
   "metadata": {},
   "source": [
    "### Alphabet"
   ]
  },
  {
   "cell_type": "code",
   "execution_count": 3,
   "metadata": {},
   "outputs": [
    {
     "name": "stdout",
     "output_type": "stream",
     "text": [
      "A B C D E F G H I J K L M N O P Q R S T U V W X Y Z\n"
     ]
    }
   ],
   "source": [
    "print(\" \".join([chr(letter) for letter in range(ord('A'),ord('Z')+1)]))"
   ]
  },
  {
   "cell_type": "markdown",
   "metadata": {},
   "source": [
    "### Consonne\n"
   ]
  },
  {
   "cell_type": "code",
   "execution_count": 6,
   "metadata": {},
   "outputs": [
    {
     "name": "stdout",
     "output_type": "stream",
     "text": [
      "b c d f g h j k l m n p q r s t v w x z\n"
     ]
    }
   ],
   "source": [
    "print(\" \".join([chr(letter) for letter in range(ord('a'),ord('z')+1) if chr(letter) not in ['a','e','i','o','u','y']]))"
   ]
  }
 ],
 "metadata": {
  "kernelspec": {
   "display_name": "Python 3.10.5 64-bit",
   "language": "python",
   "name": "python3"
  },
  "language_info": {
   "codemirror_mode": {
    "name": "ipython",
    "version": 3
   },
   "file_extension": ".py",
   "mimetype": "text/x-python",
   "name": "python",
   "nbconvert_exporter": "python",
   "pygments_lexer": "ipython3",
   "version": "3.10.5"
  },
  "orig_nbformat": 4,
  "vscode": {
   "interpreter": {
    "hash": "369f2c481f4da34e4445cda3fffd2e751bd1c4d706f27375911949ba6bb62e1c"
   }
  }
 },
 "nbformat": 4,
 "nbformat_minor": 2
}
