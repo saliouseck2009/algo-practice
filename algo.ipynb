{
 "cells": [
  {
   "cell_type": "markdown",
   "metadata": {},
   "source": [
    "## Nombre D'Amour"
   ]
  },
  {
   "cell_type": "code",
   "execution_count": null,
   "metadata": {},
   "outputs": [],
   "source": [
    "def sum_num_letter(n: int):\n",
    "    if(n<10):\n",
    "        return str(n)\n",
    "    else:\n",
    "        return sum_num_letter(sum([int(i) for i in str(n)]))\n",
    "\n",
    "def getNameSumLetter(nom:str):\n",
    "    return sum([ord(i)- 65 for i in nom])\n",
    "nom = input()\n",
    "nom1,nom2 = nom.split()[0],nom.split()[1]\n",
    "\n",
    "somme1 = getNameSumLetter(nom1)\n",
    "somme2 = getNameSumLetter(nom2)\n",
    "print(sum_num_letter(somme1)+ \" \"+sum_num_letter(somme2))"
   ]
  },
  {
   "cell_type": "markdown",
   "metadata": {},
   "source": [
    "## Lettre la plus fréquente"
   ]
  },
  {
   "cell_type": "code",
   "execution_count": 1,
   "metadata": {},
   "outputs": [
    {
     "name": "stdout",
     "output_type": "stream",
     "text": [
      "S"
     ]
    },
    {
     "data": {
      "text/plain": [
       "1"
      ]
     },
     "execution_count": 1,
     "metadata": {},
     "output_type": "execute_result"
    }
   ],
   "source": [
    "import sys\n",
    "\n",
    "#text = \"\".join(sys.stdin.readline().split()).upper()\n",
    "text = \"\".join(input().split()).upper()\n",
    "\n",
    "most_common_letter = text[0]\n",
    "max_occ = 0\n",
    "tab_letter_occ = [0]*127\n",
    "max_letter_occ: str\n",
    "for char in text:\n",
    "    tab_letter_occ[ord(char)]+=1\n",
    "    if tab_letter_occ[ord(char)] > max_occ:\n",
    "        max_occ= tab_letter_occ[ord(char)]\n",
    "        most_common_letter = char\n",
    "    \n",
    "sys.stdout.write(most_common_letter)\n",
    "\n"
   ]
  },
  {
   "cell_type": "markdown",
   "metadata": {},
   "source": [
    "### Titre livre Palindrome"
   ]
  },
  {
   "cell_type": "code",
   "execution_count": 4,
   "metadata": {},
   "outputs": [
    {
     "name": "stdout",
     "output_type": "stream",
     "text": [
      "LIEURARUEIL\n",
      "LECHEVALIERDELIBERE\n",
      "UNROCSIBISCORNU\n",
      "['Lieur a Rueil', 'Un roc si biscornu']\n"
     ]
    }
   ],
   "source": [
    "nbLivres = int(input())\n",
    "listeLivrePalindrome=[]\n",
    "for numtitre in range(nbLivres):\n",
    "    titre = input()\n",
    "    titreWithoutEspace= \"\".join(titre.split()).upper() \n",
    "    if (titreWithoutEspace == titreWithoutEspace[::-1]):\n",
    "        listeLivrePalindrome.append(titre)\n",
    "for livre in listeLivrePalindrome:\n",
    "    print(livre)"
   ]
  },
  {
   "cell_type": "markdown",
   "metadata": {},
   "source": [
    "### Validité des noms de variables "
   ]
  },
  {
   "cell_type": "code",
   "execution_count": 8,
   "metadata": {},
   "outputs": [
    {
     "ename": "ValueError",
     "evalue": "invalid literal for int() with base 10: 'r~ussi'",
     "output_type": "error",
     "traceback": [
      "\u001b[1;31m---------------------------------------------------------------------------\u001b[0m",
      "\u001b[1;31mValueError\u001b[0m                                Traceback (most recent call last)",
      "\u001b[1;32mc:\\Users\\saliou.seck\\Pictures\\code school\\programmation\\note_notebook\\Untitled Folder 1\\python-france_ioi\\algo.ipynb Cellule 8\u001b[0m in \u001b[0;36m<cell line: 1>\u001b[1;34m()\u001b[0m\n\u001b[1;32m----> <a href='vscode-notebook-cell:/c%3A/Users/saliou.seck/Pictures/code%20school/programmation/note_notebook/Untitled%20Folder%201/python-france_ioi/algo.ipynb#ch0000009?line=0'>1</a>\u001b[0m nbNoms \u001b[39m=\u001b[39m \u001b[39mint\u001b[39;49m(\u001b[39minput\u001b[39;49m())\n\u001b[0;32m      <a href='vscode-notebook-cell:/c%3A/Users/saliou.seck/Pictures/code%20school/programmation/note_notebook/Untitled%20Folder%201/python-france_ioi/algo.ipynb#ch0000009?line=1'>2</a>\u001b[0m \u001b[39mfor\u001b[39;00m i \u001b[39min\u001b[39;00m \u001b[39mrange\u001b[39m(nbNoms):\n\u001b[0;32m      <a href='vscode-notebook-cell:/c%3A/Users/saliou.seck/Pictures/code%20school/programmation/note_notebook/Untitled%20Folder%201/python-france_ioi/algo.ipynb#ch0000009?line=2'>3</a>\u001b[0m     tour\u001b[39m=\u001b[39m\u001b[39m\"\u001b[39m\u001b[39mYES\u001b[39m\u001b[39m\"\u001b[39m\n",
      "\u001b[1;31mValueError\u001b[0m: invalid literal for int() with base 10: 'r~ussi'"
     ]
    }
   ],
   "source": [
    "nbNoms = int(input())\n",
    "for i in range(nbNoms):\n",
    "    tour=\"YES\"\n",
    "    nom = input()\n",
    "    if nom[0]==\"_\" or nom[0].isalpha():\n",
    "        for letter in nom: \n",
    "            if letter.isalnum() == False and letter!=\"_\":\n",
    "                tour =\"NO\"\n",
    "    else: \n",
    "        tour=\"NO\"\n",
    "    print(tour)\n"
   ]
  },
  {
   "cell_type": "code",
   "execution_count": 6,
   "metadata": {},
   "outputs": [
    {
     "name": "stdout",
     "output_type": "stream",
     "text": [
      "YES\n",
      "NO\n",
      "YES\n",
      "NO\n",
      "NO\n"
     ]
    }
   ],
   "source": [
    "nb_variables=int(input())\n",
    "for _ in range(nb_variables):\n",
    "   nom_variable=input()\n",
    "   if(not (nom_variable[0]==\"_\" or nom_variable[0].isalpha()) ):\n",
    "      print(\"NO\")\n",
    "   else:\n",
    "    if( nom_variable[1:].isalnum() or nom_variable[1:].replace(\"_\",\"\").isalnum()):\n",
    "        print(\"YES\")\n",
    "        \n",
    "    else: \n",
    "        print(\"NO\")\n"
   ]
  },
  {
   "cell_type": "markdown",
   "metadata": {},
   "source": [
    "### Fréquences d’apparition"
   ]
  },
  {
   "cell_type": "code",
   "execution_count": 7,
   "metadata": {},
   "outputs": [
    {
     "name": "stdout",
     "output_type": "stream",
     "text": [
      "0.109375\n",
      "0.000000\n",
      "0.015625\n",
      "0.046875\n",
      "0.203125\n",
      "0.031250\n",
      "0.031250\n",
      "0.000000\n",
      "0.046875\n",
      "0.000000\n",
      "0.000000\n",
      "0.093750\n",
      "0.031250\n",
      "0.125000\n",
      "0.046875\n",
      "0.015625\n",
      "0.000000\n",
      "0.046875\n",
      "0.078125\n",
      "0.015625\n",
      "0.062500\n",
      "0.000000\n",
      "0.000000\n",
      "0.000000\n",
      "0.000000\n",
      "0.000000\n"
     ]
    }
   ],
   "source": [
    "import sys\n",
    "\n",
    "#text = \"\".join(sys.stdin.readline().split()).upper()\n",
    "text = \"\".join(input().split()).upper()\n",
    "most_common_letter = text[0]\n",
    "max_occ = 0\n",
    "tab_letter_occ = [0]*26\n",
    "number_of_letter=0\n",
    "for char in text:\n",
    "    if char.isalpha():\n",
    "        number_of_letter+=1\n",
    "        tab_letter_occ[ord(char)-ord(\"A\")]+=1\n",
    "for i in range(len(tab_letter_occ)):\n",
    "    print(\"{0:.6f}\".format(tab_letter_occ[i]/number_of_letter) )\n",
    "#sys.stdout.write(most_common_letter)\n",
    "\n"
   ]
  },
  {
   "cell_type": "markdown",
   "metadata": {},
   "source": [
    "### Inversion d'une liste de livres"
   ]
  },
  {
   "cell_type": "code",
   "execution_count": null,
   "metadata": {},
   "outputs": [],
   "source": [
    "nbLivres = int(input())\n",
    "livres = [\"\"]*nbLivres\n",
    "for i in range(nbLivres):\n",
    "    livre = input()\n",
    "    livres[nbLivres-1-i]=livre \n",
    "for livre in livres:\n",
    "    print(livre)"
   ]
  },
  {
   "cell_type": "markdown",
   "metadata": {},
   "source": [
    "### Trier des livres"
   ]
  },
  {
   "cell_type": "code",
   "execution_count": 13,
   "metadata": {},
   "outputs": [
    {
     "name": "stdout",
     "output_type": "stream",
     "text": [
      "\n"
     ]
    }
   ],
   "source": [
    "nbLivres = int(input())\n",
    "livres = [\"\"]*nbLivres\n",
    "for i in range(nbLivres):\n",
    "    titre = input()\n",
    "    livres.append(titre)\n",
    "livres.sort()\n",
    "for livre in livres :\n",
    "    print (livre)"
   ]
  }
 ],
 "metadata": {
  "kernelspec": {
   "display_name": "Python 3.10.5 64-bit (windows store)",
   "language": "python",
   "name": "python3"
  },
  "language_info": {
   "codemirror_mode": {
    "name": "ipython",
    "version": 3
   },
   "file_extension": ".py",
   "mimetype": "text/x-python",
   "name": "python",
   "nbconvert_exporter": "python",
   "pygments_lexer": "ipython3",
   "version": "3.10.5"
  },
  "orig_nbformat": 4,
  "vscode": {
   "interpreter": {
    "hash": "13f8be3677a4fdae9cf1139c1f4bbf02212bf59a78ded85205ce21e5e35f235a"
   }
  }
 },
 "nbformat": 4,
 "nbformat_minor": 2
}
